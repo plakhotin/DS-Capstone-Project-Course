{
 "cells": [
  {
   "cell_type": "markdown",
   "metadata": {},
   "source": [
    "\n",
    "<h1 align=\"center\"><font size=\"6\">Segmenting and Clustering</font></h1><h1 align=\"center\"><font size=\"12\">Neighborhoods in Toronto</font></h1>\n"
   ]
  },
  {
   "cell_type": "markdown",
   "metadata": {},
   "source": [
    "\n",
    "<h1 id=\"Peer-graded-Assignment:-Github_Segmenting-and-Clustering-Neighborhoods-in-Toronto_Linda\">Peer-graded Assignment: Github_Segmenting and Clustering Neighborhoods in Toronto_Linda<a class=\"anchor-link\" href=\"https://eu-gb.dataplatform.cloud.ibm.com/data/notebooks/converter/assets/8313cc9b-a363-4980-afca-f0c4f43bbc7c?access_token=acfddd202ebf78e84ebbdf02cb21f341bace09392e6c82f3f43c638e1752b564&amp;project=4457a2e1-3686-4058-bec5-8b309caa746d#Peer-graded-Assignment:-Github_Segmenting-and-Clustering-Neighborhoods-in-Toronto_Linda\">В¶</a></h1><h1 id=\"Table-of-Contents\">Table of Contents<a class=\"anchor-link\" href=\"https://eu-gb.dataplatform.cloud.ibm.com/data/notebooks/converter/assets/8313cc9b-a363-4980-afca-f0c4f43bbc7c?access_token=acfddd202ebf78e84ebbdf02cb21f341bace09392e6c82f3f43c638e1752b564&amp;project=4457a2e1-3686-4058-bec5-8b309caa746d#Table-of-Contents\">В¶</a></h1><p>Question 1:</p>\n",
    "<p>1.1. Notebook book created</p>\n",
    "<p>1.2. Web page scraped</p>\n",
    "<p>1.3. Data transformed into pandas dataframe</p>\n",
    "<h4 id=\"1.4.-Dataframe-cleaned-and-notebook-annotate\">1.4. Dataframe cleaned and notebook annotate<a class=\"anchor-link\" href=\"https://eu-gb.dataplatform.cloud.ibm.com/data/notebooks/converter/assets/8313cc9b-a363-4980-afca-f0c4f43bbc7c?access_token=acfddd202ebf78e84ebbdf02cb21f341bace09392e6c82f3f43c638e1752b564&amp;project=4457a2e1-3686-4058-bec5-8b309caa746d#1.4.-Dataframe-cleaned-and-notebook-annotate\">В¶</a></h4><h2 id=\"1.5.-Q1_notebook-on-Github-repository.-(10-marks)\">1.5. Q1_notebook on Github repository. (10 marks)<a class=\"anchor-link\" href=\"https://eu-gb.dataplatform.cloud.ibm.com/data/notebooks/converter/assets/8313cc9b-a363-4980-afca-f0c4f43bbc7c?access_token=acfddd202ebf78e84ebbdf02cb21f341bace09392e6c82f3f43c638e1752b564&amp;project=4457a2e1-3686-4058-bec5-8b309caa746d#1.5.-Q1_notebook-on-Github-repository.-(10-marks)\">В¶</a></h2><p>Question 2:</p>\n",
    "<p>2.1. Used the Geocoder Package to get the coordinates of a few neighborhoods</p>\n",
    "<h4 id=\"2.2.-Used-the-csv-file-to-create-the-requested-dataframe\">2.2. Used the csv file to create the requested dataframe<a class=\"anchor-link\" href=\"https://eu-gb.dataplatform.cloud.ibm.com/data/notebooks/converter/assets/8313cc9b-a363-4980-afca-f0c4f43bbc7c?access_token=acfddd202ebf78e84ebbdf02cb21f341bace09392e6c82f3f43c638e1752b564&amp;project=4457a2e1-3686-4058-bec5-8b309caa746d#2.2.-Used-the-csv-file-to-create-the-requested-dataframe\">В¶</a></h4><h2 id=\"2.3.-Q2_-notebook-on-Github-repository.-(2-marks)\">2.3. Q2_ notebook on Github repository. (2 marks)<a class=\"anchor-link\" href=\"https://eu-gb.dataplatform.cloud.ibm.com/data/notebooks/converter/assets/8313cc9b-a363-4980-afca-f0c4f43bbc7c?access_token=acfddd202ebf78e84ebbdf02cb21f341bace09392e6c82f3f43c638e1752b564&amp;project=4457a2e1-3686-4058-bec5-8b309caa746d#2.3.-Q2_-notebook-on-Github-repository.-(2-marks)\">В¶</a></h2><p>Question 3:</p>\n",
    "<p>3.1. Build a test set with boroughs in Toronto</p>\n",
    "<p>3.2. Replicate the same analysis with the neighborhoods in Toronto.</p>\n",
    "<p>3.3 Used the Foursquare API to explore neighborhoods in Toronto.</p>\n",
    "<p>3.4. Get the most common venue categories in each neighborhood</p>\n",
    "<p>3.5. Used these features to group the neighborhoods into clusters</p>\n",
    "<h4 id=\"3.4.-Used-the-Folium-library-to-generated-maps-to-visualize-neighborhoods-on-and-how-they-cluster-together.\">3.4. Used the Folium library to generated maps to visualize neighborhoods on and how they cluster together.<a class=\"anchor-link\" href=\"https://eu-gb.dataplatform.cloud.ibm.com/data/notebooks/converter/assets/8313cc9b-a363-4980-afca-f0c4f43bbc7c?access_token=acfddd202ebf78e84ebbdf02cb21f341bace09392e6c82f3f43c638e1752b564&amp;project=4457a2e1-3686-4058-bec5-8b309caa746d#3.4.-Used-the-Folium-library-to-generated-maps-to-visualize-neighborhoods-on-and-how-they-cluster-together.\">В¶</a></h4><h2 id=\"3.5.-Q3_-notebook-on-Github-repository.-(3-marks)\">3.5. Q3_ notebook on Github repository. (3 marks)<a class=\"anchor-link\" href=\"https://eu-gb.dataplatform.cloud.ibm.com/data/notebooks/converter/assets/8313cc9b-a363-4980-afca-f0c4f43bbc7c?access_token=acfddd202ebf78e84ebbdf02cb21f341bace09392e6c82f3f43c638e1752b564&amp;project=4457a2e1-3686-4058-bec5-8b309caa746d#3.5.-Q3_-notebook-on-Github-repository.-(3-marks)\">В¶</a></h2>\n"
   ]
  },
  {
   "cell_type": "markdown",
   "metadata": {},
   "source": [
    "\n",
    "<h1 align=\"center\"><font size=\"8\">...</font></h1>\n"
   ]
  },
  {
   "cell_type": "markdown",
   "metadata": {},
   "source": [
    "\n",
    "<h1 id=\"Question-1:\">Question 1:<a class=\"anchor-link\" href=\"https://eu-gb.dataplatform.cloud.ibm.com/data/notebooks/converter/assets/8313cc9b-a363-4980-afca-f0c4f43bbc7c?access_token=acfddd202ebf78e84ebbdf02cb21f341bace09392e6c82f3f43c638e1752b564&amp;project=4457a2e1-3686-4058-bec5-8b309caa746d#Question-1:\">В¶</a></h1><h2 id=\"1.1.-Notebook-book-created\">1.1. Notebook book created<a class=\"anchor-link\" href=\"https://eu-gb.dataplatform.cloud.ibm.com/data/notebooks/converter/assets/8313cc9b-a363-4980-afca-f0c4f43bbc7c?access_token=acfddd202ebf78e84ebbdf02cb21f341bace09392e6c82f3f43c638e1752b564&amp;project=4457a2e1-3686-4058-bec5-8b309caa746d#1.1.-Notebook-book-created\">В¶</a></h2><p>with the basic dependencies.</p>\n"
   ]
  },
  {
   "cell_type": "code",
   "execution_count": 1,
   "metadata": {},
   "outputs": [
    {
     "name": "stdout",
     "output_type": "stream",
     "text": [
      "Libraries imported.\n"
     ]
    }
   ],
   "source": [
    "\n",
    "import numpy as np # library to handle data in a vectorized manner\n",
    "import pandas as pd # library for data analsysis\n",
    "import requests # Library for web scraping\n",
    "\n",
    "print('Libraries imported.')\n",
    "\n"
   ]
  },
  {
   "cell_type": "markdown",
   "metadata": {},
   "source": [
    "\n",
    "<h2 id=\"1.2.-Web-page-scraped\">1.2. Web page scraped<a class=\"anchor-link\" href=\"https://eu-gb.dataplatform.cloud.ibm.com/data/notebooks/converter/assets/8313cc9b-a363-4980-afca-f0c4f43bbc7c?access_token=acfddd202ebf78e84ebbdf02cb21f341bace09392e6c82f3f43c638e1752b564&amp;project=4457a2e1-3686-4058-bec5-8b309caa746d#1.2.-Web-page-scraped\">В¶</a></h2>\n"
   ]
  },
  {
   "cell_type": "markdown",
   "metadata": {},
   "source": [
    "\n",
    "<p>About the Data, Wikipedia page, <a href=\"https://en.wikipedia.org/wiki/List_of_postal_codes_of_Canada:_M\">https://en.wikipedia.org/wiki/List_of_postal_codes_of_Canada:_M</a>,</p>\n",
    "<ul>\n",
    "<li><p>is a list of postal codes in Canada where the first letter is M. Postal codes beginning with M are located within the city of Toronto in the province of Ontario.</p>\n",
    "</li>\n",
    "<li><p>Scraping table from HTML using BeautifulSoup, write a Python program similar to scrape.py,from:</p>\n",
    "</li>\n",
    "</ul>\n",
    "<h5 id=\"Corey-Schafer-Python-Programming-Tutorial:\">Corey Schafer Python Programming Tutorial:<a class=\"anchor-link\" href=\"https://eu-gb.dataplatform.cloud.ibm.com/data/notebooks/converter/assets/8313cc9b-a363-4980-afca-f0c4f43bbc7c?access_token=acfddd202ebf78e84ebbdf02cb21f341bace09392e6c82f3f43c638e1752b564&amp;project=4457a2e1-3686-4058-bec5-8b309caa746d#Corey-Schafer-Python-Programming-Tutorial:\">В¶</a></h5><p>The code from this video can be found at: <a href=\"https://github.com/CoreyMSchafer/code\">https://github.com/CoreyMSchafer/code</a>...</p>\n"
   ]
  },
  {
   "cell_type": "code",
   "execution_count": 2,
   "metadata": {},
   "outputs": [
    {
     "name": "stdout",
     "output_type": "stream",
     "text": [
      "BeautifulSoup  & csv imported.\n"
     ]
    }
   ],
   "source": [
    "\n",
    "# To run this, you can install BeautifulSoup\n",
    "# https://pypi.python.org/pypi/beautifulsoup4\n",
    "\n",
    "# Or download the file\n",
    "# http://beautiful-soup-4\n",
    "# and unzip it in the same directory as this file\n",
    "import requests\n",
    "from urllib.request import urlopen\n",
    "from bs4 import BeautifulSoup\n",
    "import ssl\n",
    "import csv\n",
    "\n",
    "print('BeautifulSoup  & csv imported.')\n",
    "\n"
   ]
  },
  {
   "cell_type": "code",
   "execution_count": 3,
   "metadata": {},
   "outputs": [
    {
     "name": "stdout",
     "output_type": "stream",
     "text": [
      "SSL certificate errors ignored.\n"
     ]
    }
   ],
   "source": [
    "\n",
    "# Ignore SSL certificate errors\n",
    "ctx = ssl.create_default_context()\n",
    "ctx.check_hostname = False\n",
    "ctx.verify_mode = ssl.CERT_NONE\n",
    "\n",
    "print('SSL certificate errors ignored.')\n",
    "\n"
   ]
  },
  {
   "cell_type": "code",
   "execution_count": 4,
   "metadata": {},
   "outputs": [
    {
     "name": "stdout",
     "output_type": "stream",
     "text": [
      "soup ready\n"
     ]
    }
   ],
   "source": [
    "\n",
    "source = requests.get('https://en.wikipedia.org/wiki/List_of_postal_codes_of_Canada:_M').text\n",
    "\n",
    "soup = BeautifulSoup(source, 'lxml')\n",
    "\n",
    "#print(soup.prettify())\n",
    "print('soup ready')\n",
    "\n"
   ]
  },
  {
   "cell_type": "code",
   "execution_count": 5,
   "metadata": {},
   "outputs": [],
   "source": [
    "\n",
    "table = soup.find('table',{'class':'wikitable sortable'})\n",
    "#table\n",
    "\n"
   ]
  },
  {
   "cell_type": "code",
   "execution_count": 6,
   "metadata": {},
   "outputs": [],
   "source": [
    "\n",
    "table_rows = table.find_all('tr')\n",
    "\n",
    "#table_rows\n",
    "\n"
   ]
  },
  {
   "cell_type": "code",
   "execution_count": 7,
   "metadata": {},
   "outputs": [],
   "source": [
    "\n",
    "data = []\n",
    "for row in table_rows:\n",
    "    data.append([t.text.strip() for t in row.find_all('td')])\n",
    "\n",
    "df = pd.DataFrame(data, columns=['PostalCode', 'Borough', 'Neighbourhood'])\n",
    "df = df[~df['PostalCode'].isnull()]  # to filter out bad rows\n",
    "\n",
    "#print(df.head(5))\n",
    "#print('***')\n",
    "#print(df.tail(5))\n",
    "\n"
   ]
  },
  {
   "cell_type": "markdown",
   "metadata": {},
   "source": [
    "\n",
    "<h2 id=\"1.3.-Data-transformed-into-pandas-dataframe\">1.3. Data transformed into pandas dataframe<a class=\"anchor-link\" href=\"https://eu-gb.dataplatform.cloud.ibm.com/data/notebooks/converter/assets/8313cc9b-a363-4980-afca-f0c4f43bbc7c?access_token=acfddd202ebf78e84ebbdf02cb21f341bace09392e6c82f3f43c638e1752b564&amp;project=4457a2e1-3686-4058-bec5-8b309caa746d#1.3.-Data-transformed-into-pandas-dataframe\">В¶</a></h2>\n"
   ]
  },
  {
   "cell_type": "code",
   "execution_count": 8,
   "metadata": {},
   "outputs": [
    {
     "name": "stdout",
     "output_type": "stream",
     "text": [
      "<class 'pandas.core.frame.DataFrame'>\n",
      "Int64Index: 180 entries, 1 to 180\n",
      "Data columns (total 3 columns):\n",
      " #   Column         Non-Null Count  Dtype \n",
      "---  ------         --------------  ----- \n",
      " 0   PostalCode     180 non-null    object\n",
      " 1   Borough        180 non-null    object\n",
      " 2   Neighbourhood  180 non-null    object\n",
      "dtypes: object(3)\n",
      "memory usage: 5.6+ KB\n"
     ]
    }
   ],
   "source": [
    "\n",
    "df.info()\n",
    "\n"
   ]
  },
  {
   "cell_type": "code",
   "execution_count": 9,
   "metadata": {},
   "outputs": [
    {
     "data": {
      "text/plain": [
       "(180, 3)"
      ]
     },
     "execution_count": 9,
     "metadata": {},
     "output_type": "execute_result"
    }
   ],
   "source": [
    "\n",
    "df.shape\n",
    "\n"
   ]
  },
  {
   "cell_type": "markdown",
   "metadata": {},
   "source": [
    "\n",
    "<h2 id=\"1.4.-Dataframe-cleaned-and-notebook-annotate\">1.4. Dataframe cleaned and notebook annotate<a class=\"anchor-link\" href=\"https://eu-gb.dataplatform.cloud.ibm.com/data/notebooks/converter/assets/8313cc9b-a363-4980-afca-f0c4f43bbc7c?access_token=acfddd202ebf78e84ebbdf02cb21f341bace09392e6c82f3f43c638e1752b564&amp;project=4457a2e1-3686-4058-bec5-8b309caa746d#1.4.-Dataframe-cleaned-and-notebook-annotate\">В¶</a></h2>\n"
   ]
  },
  {
   "cell_type": "markdown",
   "metadata": {},
   "source": [
    "\n",
    "<p>Only process the cells that have an assigned borough, we can ignore cells with 'Not assigned' boroughs, like in rows 1 &amp; 2.</p>\n"
   ]
  },
  {
   "cell_type": "code",
   "execution_count": 10,
   "metadata": {},
   "outputs": [],
   "source": [
    "\n",
    "import pandas\n",
    "import requests\n",
    "from bs4 import BeautifulSoup\n",
    "website_text = requests.get('https://en.wikipedia.org/wiki/List_of_postal_codes_of_Canada:_M').text\n",
    "soup = BeautifulSoup(website_text,'lxml')\n",
    "\n",
    "table = soup.find('table',{'class':'wikitable sortable'})\n",
    "table_rows = table.find_all('tr')\n",
    "\n",
    "data = []\n",
    "for row in table_rows:\n",
    "    data.append([t.text.strip() for t in row.find_all('td')])\n",
    "\n",
    "df = pandas.DataFrame(data, columns=['PostalCode', 'Borough', 'Neighbourhood'])\n",
    "df = df[~df['PostalCode'].isnull()]  # to filter out bad rows\n",
    "\n",
    "#df.head(15)\n",
    "\n"
   ]
  },
  {
   "cell_type": "code",
   "execution_count": 11,
   "metadata": {},
   "outputs": [],
   "source": [
    "\n",
    "df.drop(df[df['Borough']==\"Not assigned\"].index,axis=0, inplace=True)\n",
    "#df.head()\n",
    "\n"
   ]
  },
  {
   "cell_type": "markdown",
   "metadata": {},
   "source": [
    "\n",
    "<p>The dataframe can be reindex as follows:</p>\n"
   ]
  },
  {
   "cell_type": "code",
   "execution_count": 12,
   "metadata": {},
   "outputs": [],
   "source": [
    "\n",
    "df1 = df.reset_index()\n",
    "#df1.head()\n",
    "\n"
   ]
  },
  {
   "cell_type": "code",
   "execution_count": 13,
   "metadata": {},
   "outputs": [
    {
     "name": "stdout",
     "output_type": "stream",
     "text": [
      "<class 'pandas.core.frame.DataFrame'>\n",
      "RangeIndex: 103 entries, 0 to 102\n",
      "Data columns (total 4 columns):\n",
      " #   Column         Non-Null Count  Dtype \n",
      "---  ------         --------------  ----- \n",
      " 0   index          103 non-null    int64 \n",
      " 1   PostalCode     103 non-null    object\n",
      " 2   Borough        103 non-null    object\n",
      " 3   Neighbourhood  103 non-null    object\n",
      "dtypes: int64(1), object(3)\n",
      "memory usage: 3.3+ KB\n"
     ]
    }
   ],
   "source": [
    "\n",
    "df1.info()\n",
    "\n"
   ]
  },
  {
   "cell_type": "code",
   "execution_count": 14,
   "metadata": {},
   "outputs": [
    {
     "data": {
      "text/plain": [
       "(103, 4)"
      ]
     },
     "execution_count": 14,
     "metadata": {},
     "output_type": "execute_result"
    }
   ],
   "source": [
    "\n",
    "df1.shape\n",
    "\n"
   ]
  },
  {
   "cell_type": "markdown",
   "metadata": {},
   "source": [
    "\n",
    "<p>More than one neighborhood can exist in one postal code area, M5A is listed twice and has two neighborhoods Harbourfront and Regent Park. These two rows will be combined into one row with the neighborhoods separated with a comma using groupby, see:</p>\n",
    "<p><a href=\"https://pandas-docs.github.io/pandas-docs-travis/user_guide/groupby.html\">https://pandas-docs.github.io/pandas-docs-travis/user_guide/groupby.html</a></p>\n"
   ]
  },
  {
   "cell_type": "code",
   "execution_count": 15,
   "metadata": {},
   "outputs": [],
   "source": [
    "\n",
    "df2= df1.groupby('PostalCode').agg(lambda x: ','.join(x))\n",
    "\n",
    "#df2.head()\n",
    "       \n",
    "\n"
   ]
  },
  {
   "cell_type": "code",
   "execution_count": 16,
   "metadata": {},
   "outputs": [
    {
     "name": "stdout",
     "output_type": "stream",
     "text": [
      "<class 'pandas.core.frame.DataFrame'>\n",
      "Index: 103 entries, M1B to M9W\n",
      "Data columns (total 2 columns):\n",
      " #   Column         Non-Null Count  Dtype \n",
      "---  ------         --------------  ----- \n",
      " 0   Borough        103 non-null    object\n",
      " 1   Neighbourhood  103 non-null    object\n",
      "dtypes: object(2)\n",
      "memory usage: 2.4+ KB\n"
     ]
    }
   ],
   "source": [
    "\n",
    "df2.info()\n",
    "\n"
   ]
  },
  {
   "cell_type": "code",
   "execution_count": 17,
   "metadata": {},
   "outputs": [
    {
     "data": {
      "text/plain": [
       "(103, 2)"
      ]
     },
     "execution_count": 17,
     "metadata": {},
     "output_type": "execute_result"
    }
   ],
   "source": [
    "\n",
    "df2.shape\n",
    "\n"
   ]
  },
  {
   "cell_type": "markdown",
   "metadata": {},
   "source": [
    "\n",
    "<p>There are also cells that have an assigned neighbouhoods,like M7A, lets assign their boroughs as their neighbourhood, as follows:</p>\n"
   ]
  },
  {
   "cell_type": "code",
   "execution_count": 18,
   "metadata": {},
   "outputs": [],
   "source": [
    "\n",
    "df2.loc[df2['Neighbourhood']==\"Not assigned\",'Neighbourhood']=df2.loc[df2['Neighbourhood']==\"Not assigned\",'Borough']\n",
    "\n",
    "#df2.head()\n",
    "\n"
   ]
  },
  {
   "cell_type": "code",
   "execution_count": 19,
   "metadata": {},
   "outputs": [],
   "source": [
    "\n",
    "df3 = df2.reset_index()\n",
    "#df3.head()\n",
    "\n"
   ]
  },
  {
   "cell_type": "markdown",
   "metadata": {},
   "source": [
    "\n",
    "<p>Now we can remove the duplicate boroughts as follows:</p>\n"
   ]
  },
  {
   "cell_type": "code",
   "execution_count": 20,
   "metadata": {},
   "outputs": [],
   "source": [
    "\n",
    "df3['Borough']= df3['Borough'].str.replace('nan|[{}\\s]','').str.split(',').apply(set).str.join(',').str.strip(',').str.replace(\",{2,}\",\",\")\n",
    "\n"
   ]
  },
  {
   "cell_type": "code",
   "execution_count": 21,
   "metadata": {},
   "outputs": [
    {
     "data": {
      "text/html": [
       "<div>\n",
       "<style scoped>\n",
       "    .dataframe tbody tr th:only-of-type {\n",
       "        vertical-align: middle;\n",
       "    }\n",
       "\n",
       "    .dataframe tbody tr th {\n",
       "        vertical-align: top;\n",
       "    }\n",
       "\n",
       "    .dataframe thead th {\n",
       "        text-align: right;\n",
       "    }\n",
       "</style>\n",
       "<table border=\"1\" class=\"dataframe\">\n",
       "  <thead>\n",
       "    <tr style=\"text-align: right;\">\n",
       "      <th></th>\n",
       "      <th>PostalCode</th>\n",
       "      <th>Borough</th>\n",
       "      <th>Neighbourhood</th>\n",
       "    </tr>\n",
       "  </thead>\n",
       "  <tbody>\n",
       "    <tr>\n",
       "      <th>0</th>\n",
       "      <td>M1B</td>\n",
       "      <td>Scarborough</td>\n",
       "      <td>Malvern, Rouge</td>\n",
       "    </tr>\n",
       "    <tr>\n",
       "      <th>1</th>\n",
       "      <td>M1C</td>\n",
       "      <td>Scarborough</td>\n",
       "      <td>Rouge Hill, Port Union, Highland Creek</td>\n",
       "    </tr>\n",
       "    <tr>\n",
       "      <th>2</th>\n",
       "      <td>M1E</td>\n",
       "      <td>Scarborough</td>\n",
       "      <td>Guildwood, Morningside, West Hill</td>\n",
       "    </tr>\n",
       "    <tr>\n",
       "      <th>3</th>\n",
       "      <td>M1G</td>\n",
       "      <td>Scarborough</td>\n",
       "      <td>Woburn</td>\n",
       "    </tr>\n",
       "    <tr>\n",
       "      <th>4</th>\n",
       "      <td>M1H</td>\n",
       "      <td>Scarborough</td>\n",
       "      <td>Cedarbrae</td>\n",
       "    </tr>\n",
       "  </tbody>\n",
       "</table>\n",
       "</div>"
      ],
      "text/plain": [
       "  PostalCode      Borough                           Neighbourhood\n",
       "0        M1B  Scarborough                          Malvern, Rouge\n",
       "1        M1C  Scarborough  Rouge Hill, Port Union, Highland Creek\n",
       "2        M1E  Scarborough       Guildwood, Morningside, West Hill\n",
       "3        M1G  Scarborough                                  Woburn\n",
       "4        M1H  Scarborough                               Cedarbrae"
      ]
     },
     "execution_count": 21,
     "metadata": {},
     "output_type": "execute_result"
    }
   ],
   "source": [
    "\n",
    "df3.head()\n",
    "\n"
   ]
  },
  {
   "cell_type": "code",
   "execution_count": 22,
   "metadata": {},
   "outputs": [
    {
     "name": "stdout",
     "output_type": "stream",
     "text": [
      "<class 'pandas.core.frame.DataFrame'>\n",
      "RangeIndex: 103 entries, 0 to 102\n",
      "Data columns (total 3 columns):\n",
      " #   Column         Non-Null Count  Dtype \n",
      "---  ------         --------------  ----- \n",
      " 0   PostalCode     103 non-null    object\n",
      " 1   Borough        103 non-null    object\n",
      " 2   Neighbourhood  103 non-null    object\n",
      "dtypes: object(3)\n",
      "memory usage: 2.5+ KB\n"
     ]
    }
   ],
   "source": [
    "\n",
    "df3.info()\n",
    "\n"
   ]
  },
  {
   "cell_type": "code",
   "execution_count": 23,
   "metadata": {},
   "outputs": [
    {
     "data": {
      "text/plain": [
       "(103, 3)"
      ]
     },
     "execution_count": 23,
     "metadata": {},
     "output_type": "execute_result"
    }
   ],
   "source": [
    "\n",
    "df3.shape\n",
    "\n"
   ]
  },
  {
   "cell_type": "markdown",
   "metadata": {},
   "source": [
    "\n",
    "<h2 id=\"1.5.-Q1_notebook-on-Github-repository.-(10-marks)\">1.5. Q1_notebook on Github repository. (10 marks)<a class=\"anchor-link\" href=\"https://eu-gb.dataplatform.cloud.ibm.com/data/notebooks/converter/assets/8313cc9b-a363-4980-afca-f0c4f43bbc7c?access_token=acfddd202ebf78e84ebbdf02cb21f341bace09392e6c82f3f43c638e1752b564&amp;project=4457a2e1-3686-4058-bec5-8b309caa746d#1.5.-Q1_notebook-on-Github-repository.-(10-marks)\">В¶</a></h2>\n"
   ]
  },
  {
   "cell_type": "markdown",
   "metadata": {},
   "source": [
    "\n",
    "<h1 id=\"Question-2:\">Question 2:<a class=\"anchor-link\" href=\"https://eu-gb.dataplatform.cloud.ibm.com/data/notebooks/converter/assets/8313cc9b-a363-4980-afca-f0c4f43bbc7c?access_token=acfddd202ebf78e84ebbdf02cb21f341bace09392e6c82f3f43c638e1752b564&amp;project=4457a2e1-3686-4058-bec5-8b309caa746d#Question-2:\">В¶</a></h1><h2 id=\"2.1.-Used-the-Geocoder-Package\">2.1. Used the Geocoder Package<a class=\"anchor-link\" href=\"https://eu-gb.dataplatform.cloud.ibm.com/data/notebooks/converter/assets/8313cc9b-a363-4980-afca-f0c4f43bbc7c?access_token=acfddd202ebf78e84ebbdf02cb21f341bace09392e6c82f3f43c638e1752b564&amp;project=4457a2e1-3686-4058-bec5-8b309caa746d#2.1.-Used-the-Geocoder-Package\">В¶</a></h2>\n"
   ]
  },
  {
   "cell_type": "code",
   "execution_count": 24,
   "metadata": {},
   "outputs": [
    {
     "name": "stdout",
     "output_type": "stream",
     "text": [
      "Requirement already satisfied: geopy in c:\\users\\admin\\anaconda3\\lib\\site-packages (2.0.0)\n",
      "Requirement already satisfied: geographiclib<2,>=1.49 in c:\\users\\admin\\anaconda3\\lib\\site-packages (from geopy) (1.50)\n"
     ]
    }
   ],
   "source": [
    "\n",
    "!pip install geopy\n",
    "\n"
   ]
  },
  {
   "cell_type": "code",
   "execution_count": 25,
   "metadata": {},
   "outputs": [
    {
     "name": "stdout",
     "output_type": "stream",
     "text": [
      "latitude is :- 51.5073219 \n",
      "longtitude is:- -0.1276474\n"
     ]
    }
   ],
   "source": [
    "\n",
    "from  geopy.geocoders import Nominatim\n",
    "geolocator = Nominatim(user_agent=\"tor_explorer\")\n",
    "city =\"London\"\n",
    "country =\"Uk\"\n",
    "loc = geolocator.geocode(city+','+ country)\n",
    "print(\"latitude is :-\" ,loc.latitude,\"\\nlongtitude is:-\" ,loc.longitude)\n",
    "\n"
   ]
  },
  {
   "cell_type": "code",
   "execution_count": 26,
   "metadata": {},
   "outputs": [
    {
     "name": "stdout",
     "output_type": "stream",
     "text": [
      "Parkwoods Village Drive, Parkway East, Don Valley East, North York, Toronto, Golden Horseshoe, Ontario, M3A 2X2, Canada\n",
      "\n",
      "(43.7587999, -79.3201966)\n",
      "\n",
      "{'place_id': 124974741, 'licence': 'Data © OpenStreetMap contributors, ODbL 1.0. https://osm.org/copyright', 'osm_type': 'way', 'osm_id': 160406961, 'boundingbox': ['43.7576231', '43.761106', '-79.3239088', '-79.316215'], 'lat': '43.7587999', 'lon': '-79.3201966', 'display_name': 'Parkwoods Village Drive, Parkway East, Don Valley East, North York, Toronto, Golden Horseshoe, Ontario, M3A 2X2, Canada', 'class': 'highway', 'type': 'secondary', 'importance': 0.51}\n"
     ]
    }
   ],
   "source": [
    "\n",
    "from  geopy.geocoders import Nominatim\n",
    "geolocator = Nominatim(user_agent=\"tor_explorer\")\n",
    "location = geolocator.geocode(\"Toronto, North York, Parkwoods\")\n",
    "\n",
    "print(location.address)\n",
    "print('')\n",
    "print((location.latitude, location.longitude))\n",
    "print('')\n",
    "print(location.raw)\n",
    "\n"
   ]
  },
  {
   "cell_type": "code",
   "execution_count": 27,
   "metadata": {},
   "outputs": [],
   "source": [
    "\n",
    "import pandas as pd\n",
    "#df3.head()\n",
    "\n"
   ]
  },
  {
   "cell_type": "code",
   "execution_count": 28,
   "metadata": {},
   "outputs": [],
   "source": [
    "\n",
    "import pandas as pd\n",
    "df_geopy = pd.DataFrame({'PostalCode': ['M3A', 'M4A', 'M5A'],\n",
    "                         'Borough': ['North York', 'North York', 'Downtown Toronto'],\n",
    "                         'Neighbourhood': ['Parkwoods', 'Victoria Village', 'Harbourfront'],})\n",
    "\n",
    "from geopy.geocoders import Nominatim\n",
    "geolocator = Nominatim(user_agent=\"tor_explorer\")\n",
    "\n"
   ]
  },
  {
   "cell_type": "code",
   "execution_count": 29,
   "metadata": {},
   "outputs": [],
   "source": [
    "\n",
    "df_geopy1 = df3\n",
    "#df_geopy1\n",
    "\n"
   ]
  },
  {
   "cell_type": "code",
   "execution_count": 30,
   "metadata": {},
   "outputs": [
    {
     "data": {
      "text/html": [
       "<div>\n",
       "<style scoped>\n",
       "    .dataframe tbody tr th:only-of-type {\n",
       "        vertical-align: middle;\n",
       "    }\n",
       "\n",
       "    .dataframe tbody tr th {\n",
       "        vertical-align: top;\n",
       "    }\n",
       "\n",
       "    .dataframe thead th {\n",
       "        text-align: right;\n",
       "    }\n",
       "</style>\n",
       "<table border=\"1\" class=\"dataframe\">\n",
       "  <thead>\n",
       "    <tr style=\"text-align: right;\">\n",
       "      <th></th>\n",
       "      <th>PostalCode</th>\n",
       "      <th>Borough</th>\n",
       "      <th>Neighbourhood</th>\n",
       "      <th>address</th>\n",
       "    </tr>\n",
       "  </thead>\n",
       "  <tbody>\n",
       "    <tr>\n",
       "      <th>0</th>\n",
       "      <td>M1B</td>\n",
       "      <td>Scarborough</td>\n",
       "      <td>Malvern, Rouge</td>\n",
       "      <td>M1B, Scarborough, Malvern, Rouge</td>\n",
       "    </tr>\n",
       "    <tr>\n",
       "      <th>1</th>\n",
       "      <td>M1C</td>\n",
       "      <td>Scarborough</td>\n",
       "      <td>Rouge Hill, Port Union, Highland Creek</td>\n",
       "      <td>M1C, Scarborough, Rouge Hill, Port Union, High...</td>\n",
       "    </tr>\n",
       "    <tr>\n",
       "      <th>2</th>\n",
       "      <td>M1E</td>\n",
       "      <td>Scarborough</td>\n",
       "      <td>Guildwood, Morningside, West Hill</td>\n",
       "      <td>M1E, Scarborough, Guildwood, Morningside, West...</td>\n",
       "    </tr>\n",
       "    <tr>\n",
       "      <th>3</th>\n",
       "      <td>M1G</td>\n",
       "      <td>Scarborough</td>\n",
       "      <td>Woburn</td>\n",
       "      <td>M1G, Scarborough, Woburn</td>\n",
       "    </tr>\n",
       "    <tr>\n",
       "      <th>4</th>\n",
       "      <td>M1H</td>\n",
       "      <td>Scarborough</td>\n",
       "      <td>Cedarbrae</td>\n",
       "      <td>M1H, Scarborough, Cedarbrae</td>\n",
       "    </tr>\n",
       "  </tbody>\n",
       "</table>\n",
       "</div>"
      ],
      "text/plain": [
       "  PostalCode      Borough                           Neighbourhood  \\\n",
       "0        M1B  Scarborough                          Malvern, Rouge   \n",
       "1        M1C  Scarborough  Rouge Hill, Port Union, Highland Creek   \n",
       "2        M1E  Scarborough       Guildwood, Morningside, West Hill   \n",
       "3        M1G  Scarborough                                  Woburn   \n",
       "4        M1H  Scarborough                               Cedarbrae   \n",
       "\n",
       "                                             address  \n",
       "0                   M1B, Scarborough, Malvern, Rouge  \n",
       "1  M1C, Scarborough, Rouge Hill, Port Union, High...  \n",
       "2  M1E, Scarborough, Guildwood, Morningside, West...  \n",
       "3                           M1G, Scarborough, Woburn  \n",
       "4                        M1H, Scarborough, Cedarbrae  "
      ]
     },
     "execution_count": 30,
     "metadata": {},
     "output_type": "execute_result"
    }
   ],
   "source": [
    "\n",
    "from geopy.geocoders import Nominatim\n",
    "geolocator = Nominatim(user_agent=\"tor_explorer\")\n",
    "\n",
    "df_geopy1['address'] = df3[['PostalCode', 'Borough', 'Neighbourhood']].apply(lambda x: ', '.join(x), axis=1 )\n",
    "df_geopy1.head()\n",
    "\n"
   ]
  },
  {
   "cell_type": "code",
   "execution_count": 31,
   "metadata": {},
   "outputs": [],
   "source": [
    "\n",
    "df_geopy1 = df3\n",
    "\n"
   ]
  },
  {
   "cell_type": "code",
   "execution_count": 32,
   "metadata": {},
   "outputs": [
    {
     "data": {
      "text/plain": [
       "(103, 4)"
      ]
     },
     "execution_count": 32,
     "metadata": {},
     "output_type": "execute_result"
    }
   ],
   "source": [
    "\n",
    "df_geopy1.shape\n",
    "\n"
   ]
  },
  {
   "cell_type": "code",
   "execution_count": 33,
   "metadata": {},
   "outputs": [
    {
     "name": "stdout",
     "output_type": "stream",
     "text": [
      "<class 'pandas.core.frame.DataFrame'>\n",
      "RangeIndex: 103 entries, 0 to 102\n",
      "Data columns (total 4 columns):\n",
      " #   Column         Non-Null Count  Dtype \n",
      "---  ------         --------------  ----- \n",
      " 0   PostalCode     103 non-null    object\n",
      " 1   Borough        103 non-null    object\n",
      " 2   Neighbourhood  103 non-null    object\n",
      " 3   address        103 non-null    object\n",
      "dtypes: object(4)\n",
      "memory usage: 3.3+ KB\n"
     ]
    }
   ],
   "source": [
    "\n",
    "df_geopy1.info()\n",
    "\n"
   ]
  },
  {
   "cell_type": "code",
   "execution_count": 34,
   "metadata": {},
   "outputs": [
    {
     "name": "stdout",
     "output_type": "stream",
     "text": [
      "<class 'pandas.core.frame.DataFrame'>\n",
      "Int64Index: 103 entries, 0 to 102\n",
      "Data columns (total 4 columns):\n",
      " #   Column         Non-Null Count  Dtype \n",
      "---  ------         --------------  ----- \n",
      " 0   PostalCode     103 non-null    object\n",
      " 1   Borough        103 non-null    object\n",
      " 2   Neighbourhood  103 non-null    object\n",
      " 3   address        103 non-null    object\n",
      "dtypes: object(4)\n",
      "memory usage: 4.0+ KB\n"
     ]
    }
   ],
   "source": [
    "\n",
    "df_geopy1.drop(df_geopy1[df_geopy1['Borough']==\"Notassigned\"].index,axis=0, inplace=True)\n",
    "#df_geopy1\n",
    "# code holds true up until i=102\n",
    "df_geopy1.info()\n",
    "\n"
   ]
  },
  {
   "cell_type": "code",
   "execution_count": 35,
   "metadata": {},
   "outputs": [],
   "source": [
    "\n",
    "#df_geopy1.head()\n",
    "\n"
   ]
  },
  {
   "cell_type": "code",
   "execution_count": 36,
   "metadata": {},
   "outputs": [
    {
     "data": {
      "text/plain": [
       "(103, 4)"
      ]
     },
     "execution_count": 36,
     "metadata": {},
     "output_type": "execute_result"
    }
   ],
   "source": [
    "\n",
    "df_geopy1.shape\n",
    "\n"
   ]
  },
  {
   "cell_type": "code",
   "execution_count": 37,
   "metadata": {},
   "outputs": [],
   "source": [
    "\n",
    "df_geopy1.to_csv('geopy1.csv')\n",
    "# no data for location after row 75\n",
    "\n"
   ]
  },
  {
   "cell_type": "markdown",
   "metadata": {},
   "source": [
    "\n",
    "<p>Now let's test for location = 'M1G, Scarborough, Woburn'</p>\n"
   ]
  },
  {
   "cell_type": "code",
   "execution_count": 38,
   "metadata": {},
   "outputs": [
    {
     "name": "stdout",
     "output_type": "stream",
     "text": [
      "{'place_id': 4761941, 'licence': 'Data © OpenStreetMap contributors, ODbL 1.0. https://osm.org/copyright', 'osm_type': 'node', 'osm_id': 558715617, 'boundingbox': ['43.7498243', '43.7698243', '-79.2352908', '-79.2152908'], 'lat': '43.7598243', 'lon': '-79.2252908', 'display_name': 'Woburn, Scarborough—Guildwood, Scarborough, Toronto, Golden Horseshoe, Ontario, M1H 2A2, Canada', 'class': 'place', 'type': 'neighbourhood', 'importance': 0.5588036674790013}\n"
     ]
    }
   ],
   "source": [
    "\n",
    "from  geopy.geocoders import Nominatim\n",
    "geolocator = Nominatim(user_agent=\"tor_explorer\")\n",
    "location = geolocator.geocode(\"M1G, Scarborough, Woburn\")\n",
    "\n",
    "\n",
    "#print(location.address)\n",
    "\n",
    "#print((location.latitude, location.longitude))\n",
    "\n",
    "print(location.raw)\n",
    "\n"
   ]
  },
  {
   "cell_type": "code",
   "execution_count": 39,
   "metadata": {},
   "outputs": [
    {
     "name": "stdout",
     "output_type": "stream",
     "text": [
      "Requirement already satisfied: geocoder in c:\\users\\admin\\anaconda3\\lib\\site-packages (1.38.1)\n",
      "Requirement already satisfied: future in c:\\users\\admin\\anaconda3\\lib\\site-packages (from geocoder) (0.18.2)\n",
      "Requirement already satisfied: ratelim in c:\\users\\admin\\anaconda3\\lib\\site-packages (from geocoder) (0.1.6)\n",
      "Requirement already satisfied: six in c:\\users\\admin\\anaconda3\\lib\\site-packages (from geocoder) (1.15.0)\n",
      "Requirement already satisfied: click in c:\\users\\admin\\anaconda3\\lib\\site-packages (from geocoder) (7.1.2)\n",
      "Requirement already satisfied: requests in c:\\users\\admin\\anaconda3\\lib\\site-packages (from geocoder) (2.24.0)\n",
      "Requirement already satisfied: decorator in c:\\users\\admin\\anaconda3\\lib\\site-packages (from ratelim->geocoder) (4.4.2)\n",
      "Requirement already satisfied: chardet<4,>=3.0.2 in c:\\users\\admin\\anaconda3\\lib\\site-packages (from requests->geocoder) (3.0.4)\n",
      "Requirement already satisfied: urllib3!=1.25.0,!=1.25.1,<1.26,>=1.21.1 in c:\\users\\admin\\anaconda3\\lib\\site-packages (from requests->geocoder) (1.25.9)\n",
      "Requirement already satisfied: certifi>=2017.4.17 in c:\\users\\admin\\anaconda3\\lib\\site-packages (from requests->geocoder) (2020.6.20)\n",
      "Requirement already satisfied: idna<3,>=2.5 in c:\\users\\admin\\anaconda3\\lib\\site-packages (from requests->geocoder) (2.9)\n"
     ]
    }
   ],
   "source": [
    "\n",
    "!pip install geocoder\n",
    "\n"
   ]
  },
  {
   "cell_type": "markdown",
   "metadata": {},
   "source": [
    "\n",
    "<h4 id=\"Bonus-_-Used-Geopy-&amp;-OpenStreetMap-to-create-Dataframe\">Bonus _ Used Geopy &amp; OpenStreetMap to create Dataframe<a class=\"anchor-link\" href=\"https://eu-gb.dataplatform.cloud.ibm.com/data/notebooks/converter/assets/8313cc9b-a363-4980-afca-f0c4f43bbc7c?access_token=acfddd202ebf78e84ebbdf02cb21f341bace09392e6c82f3f43c638e1752b564&amp;project=4457a2e1-3686-4058-bec5-8b309caa746d#Bonus-_-Used-Geopy-&amp;-OpenStreetMap-to-create-Dataframe\">В¶</a></h4>\n"
   ]
  },
  {
   "cell_type": "code",
   "execution_count": 40,
   "metadata": {},
   "outputs": [],
   "source": [
    "\n",
    "df3.to_csv('geopy.csv')\n",
    "\n"
   ]
  },
  {
   "cell_type": "code",
   "execution_count": 41,
   "metadata": {},
   "outputs": [],
   "source": [
    "\n",
    "import csv\n",
    "\n",
    "with open('geopy.csv') as csvfile:\n",
    "     reader = csv.DictReader(csvfile)\n",
    "     #for row in reader:\n",
    "         #print(row['PostalCode'],row['Borough'], row['Neighbourhood'] )\n",
    "\n"
   ]
  },
  {
   "cell_type": "code",
   "execution_count": 42,
   "metadata": {},
   "outputs": [],
   "source": [
    "\n",
    "from  geopy.geocoders import Nominatim\n",
    "geolocator = Nominatim(user_agent=\"tor_explorer\")\n",
    "location = geolocator.geocode(\"M1B Scarborough Rouge,Malvern\")\n",
    "\n",
    "#print(location.address)\n",
    "\n",
    "#print((location.latitude, location.longitude))\n",
    "\n",
    "#print(location.raw)\n",
    "\n"
   ]
  },
  {
   "cell_type": "code",
   "execution_count": 43,
   "metadata": {},
   "outputs": [],
   "source": [
    "\n",
    "from  geopy.geocoders import Nominatim\n",
    "geolocator = Nominatim(user_agent=\"tor_explorer\")\n",
    "location = geolocator.geocode(\"Toronto, Highland Creek\")\n",
    "\n",
    "#print(location.address)\n",
    "\n",
    "#print((location.latitude, location.longitude))\n",
    "\n",
    "#print(location.raw)\n",
    "\n",
    "#M1C Scarborough Highland Creek,Rouge Hill,Port Union = no address\n",
    "\n"
   ]
  },
  {
   "cell_type": "code",
   "execution_count": 44,
   "metadata": {},
   "outputs": [],
   "source": [
    "\n",
    "from  geopy.geocoders import Nominatim\n",
    "geolocator = Nominatim(user_agent=\"tor_explorer\")\n",
    "location = geolocator.geocode(\"Toronto, Morningside\")\n",
    "\n",
    "#print(location.address)\n",
    "\n",
    "#print((location.latitude, location.longitude))\n",
    "\n",
    "#print(location.raw)\n",
    "\n",
    "#M1E Scarborough Guildwood,Morningside,West Hill = no address\n",
    "\n"
   ]
  },
  {
   "cell_type": "markdown",
   "metadata": {},
   "source": [
    "\n",
    "<h5 id=\"Bonus-how-to-create-a-csv-file.\">Bonus how to create a csv file.<a class=\"anchor-link\" href=\"https://eu-gb.dataplatform.cloud.ibm.com/data/notebooks/converter/assets/8313cc9b-a363-4980-afca-f0c4f43bbc7c?access_token=acfddd202ebf78e84ebbdf02cb21f341bace09392e6c82f3f43c638e1752b564&amp;project=4457a2e1-3686-4058-bec5-8b309caa746d#Bonus-how-to-create-a-csv-file.\">В¶</a></h5>\n"
   ]
  },
  {
   "cell_type": "code",
   "execution_count": 45,
   "metadata": {},
   "outputs": [],
   "source": [
    "\n",
    "import numpy as np\n",
    "import csv\n",
    "\n",
    "\n",
    "PostalCode = None\n",
    "Borough = None\n",
    "Neighbourhood = None\n",
    "latData = None\n",
    "longData = None\n",
    "\n",
    "LAT_Woburn = 43.7598243\n",
    "LONG_Woburn = -79.2252908\n",
    "LAT_Malvern = 43.8091955\n",
    "LONG_Malvern = -79.2217008\n",
    "LAT_Highland_Creek = 43.7901172\n",
    "LONG_Highland_Creek = -79.1733344\n",
    "LAT_Morningside = 43.7826012\n",
    "LONG_Morningside = -79.2049579\n",
    "\n",
    " \n",
    "PostalCode = np.array(['M1H','M1B','M1C','M1G '])\n",
    "Borough = np.array(['Scarborough','Scarborough','Scarborough','Scarborough'])\n",
    "Neighbourhood = np.array(['Woburn','Malvern','Highland_Creek','Morningside'])\n",
    "latData = np.array([43.7598243,43.8091955, 43.7901172 , 43.7826012])\n",
    "longData = np.array([-79.2252908,-79.2217008,-79.1733344, -79.2049579 ])\n",
    "\n",
    "with open('data.csv', 'w') as file:\n",
    "    writer = csv.writer(file, delimiter=',')\n",
    "    writer.writerow('ABXYZ')\n",
    "    for a,b,x,y,z in np.nditer([ PostalCode.T, Borough.T, Neighbourhood.T, latData.T, longData.T], order='C'):\n",
    "        writer.writerow([a,b,x,y,z])    \n",
    "\n"
   ]
  },
  {
   "cell_type": "code",
   "execution_count": 46,
   "metadata": {},
   "outputs": [
    {
     "name": "stdout",
     "output_type": "stream",
     "text": [
      "M1H Scarborough Woburn 43.7598243 -79.2252908\n",
      "M1B Scarborough Malvern 43.8091955 -79.2217008\n",
      "M1C Scarborough Highland_Creek 43.7901172 -79.1733344\n",
      "M1G  Scarborough Morningside 43.7826012 -79.2049579\n"
     ]
    }
   ],
   "source": [
    "\n",
    "import csv\n",
    "\n",
    "with open('data.csv') as csvfile:\n",
    "     reader = csv.DictReader(csvfile)\n",
    "     for row in reader:\n",
    "         print(row['A'], row['B'],row['X'], row['Y'], row['Z'])\n",
    "\n"
   ]
  },
  {
   "cell_type": "code",
   "execution_count": 47,
   "metadata": {},
   "outputs": [
    {
     "data": {
      "text/html": [
       "<div>\n",
       "<style scoped>\n",
       "    .dataframe tbody tr th:only-of-type {\n",
       "        vertical-align: middle;\n",
       "    }\n",
       "\n",
       "    .dataframe tbody tr th {\n",
       "        vertical-align: top;\n",
       "    }\n",
       "\n",
       "    .dataframe thead th {\n",
       "        text-align: right;\n",
       "    }\n",
       "</style>\n",
       "<table border=\"1\" class=\"dataframe\">\n",
       "  <thead>\n",
       "    <tr style=\"text-align: right;\">\n",
       "      <th></th>\n",
       "      <th>A</th>\n",
       "      <th>B</th>\n",
       "      <th>X</th>\n",
       "      <th>Y</th>\n",
       "      <th>Z</th>\n",
       "    </tr>\n",
       "  </thead>\n",
       "  <tbody>\n",
       "    <tr>\n",
       "      <th>0</th>\n",
       "      <td>M1H</td>\n",
       "      <td>Scarborough</td>\n",
       "      <td>Woburn</td>\n",
       "      <td>43.759824</td>\n",
       "      <td>-79.225291</td>\n",
       "    </tr>\n",
       "    <tr>\n",
       "      <th>1</th>\n",
       "      <td>M1B</td>\n",
       "      <td>Scarborough</td>\n",
       "      <td>Malvern</td>\n",
       "      <td>43.809196</td>\n",
       "      <td>-79.221701</td>\n",
       "    </tr>\n",
       "    <tr>\n",
       "      <th>2</th>\n",
       "      <td>M1C</td>\n",
       "      <td>Scarborough</td>\n",
       "      <td>Highland_Creek</td>\n",
       "      <td>43.790117</td>\n",
       "      <td>-79.173334</td>\n",
       "    </tr>\n",
       "    <tr>\n",
       "      <th>3</th>\n",
       "      <td>M1G</td>\n",
       "      <td>Scarborough</td>\n",
       "      <td>Morningside</td>\n",
       "      <td>43.782601</td>\n",
       "      <td>-79.204958</td>\n",
       "    </tr>\n",
       "  </tbody>\n",
       "</table>\n",
       "</div>"
      ],
      "text/plain": [
       "      A            B               X          Y          Z\n",
       "0   M1H  Scarborough          Woburn  43.759824 -79.225291\n",
       "1   M1B  Scarborough         Malvern  43.809196 -79.221701\n",
       "2   M1C  Scarborough  Highland_Creek  43.790117 -79.173334\n",
       "3  M1G   Scarborough     Morningside  43.782601 -79.204958"
      ]
     },
     "execution_count": 47,
     "metadata": {},
     "output_type": "execute_result"
    }
   ],
   "source": [
    "\n",
    "pd.read_csv('data.csv') \n",
    "\n"
   ]
  },
  {
   "cell_type": "markdown",
   "metadata": {},
   "source": [
    "\n",
    "<h3 id=\"Retrieved-coordinates-with-lambda-equation\">Retrieved coordinates with lambda equation<a class=\"anchor-link\" href=\"https://eu-gb.dataplatform.cloud.ibm.com/data/notebooks/converter/assets/8313cc9b-a363-4980-afca-f0c4f43bbc7c?access_token=acfddd202ebf78e84ebbdf02cb21f341bace09392e6c82f3f43c638e1752b564&amp;project=4457a2e1-3686-4058-bec5-8b309caa746d#Retrieved-coordinates-with-lambda-equation\">В¶</a></h3>\n"
   ]
  },
  {
   "cell_type": "code",
   "execution_count": 48,
   "metadata": {},
   "outputs": [],
   "source": [
    "\n",
    "import pandas, os\n",
    "#os.listdir()\n",
    "\n"
   ]
  },
  {
   "cell_type": "code",
   "execution_count": 49,
   "metadata": {},
   "outputs": [],
   "source": [
    "\n",
    "df_geopy=df3\n",
    "#df_geopy.head()\n",
    "\n"
   ]
  },
  {
   "cell_type": "code",
   "execution_count": 50,
   "metadata": {},
   "outputs": [],
   "source": [
    "\n",
    "import geopy\n",
    "#dir(geopy)\n",
    "\n"
   ]
  },
  {
   "cell_type": "code",
   "execution_count": 51,
   "metadata": {},
   "outputs": [
    {
     "data": {
      "text/plain": [
       "pandas.core.frame.DataFrame"
      ]
     },
     "execution_count": 51,
     "metadata": {},
     "output_type": "execute_result"
    }
   ],
   "source": [
    "\n",
    "type(df_geopy)\n",
    "\n"
   ]
  },
  {
   "cell_type": "code",
   "execution_count": 52,
   "metadata": {},
   "outputs": [
    {
     "name": "stdout",
     "output_type": "stream",
     "text": [
      "<class 'pandas.core.frame.DataFrame'>\n",
      "Int64Index: 103 entries, 0 to 102\n",
      "Data columns (total 4 columns):\n",
      " #   Column         Non-Null Count  Dtype \n",
      "---  ------         --------------  ----- \n",
      " 0   PostalCode     103 non-null    object\n",
      " 1   Borough        103 non-null    object\n",
      " 2   Neighbourhood  103 non-null    object\n",
      " 3   address        103 non-null    object\n",
      "dtypes: object(4)\n",
      "memory usage: 4.0+ KB\n"
     ]
    }
   ],
   "source": [
    "\n",
    "df_geopy.info()\n",
    "\n"
   ]
  },
  {
   "cell_type": "markdown",
   "metadata": {},
   "source": [
    "\n",
    "<h3 id=\"Import-GeoPy:\">Import GeoPy:<a class=\"anchor-link\" href=\"https://eu-gb.dataplatform.cloud.ibm.com/data/notebooks/converter/assets/8313cc9b-a363-4980-afca-f0c4f43bbc7c?access_token=acfddd202ebf78e84ebbdf02cb21f341bace09392e6c82f3f43c638e1752b564&amp;project=4457a2e1-3686-4058-bec5-8b309caa746d#Import-GeoPy:\">В¶</a></h3>\n"
   ]
  },
  {
   "cell_type": "code",
   "execution_count": 53,
   "metadata": {},
   "outputs": [
    {
     "name": "stdout",
     "output_type": "stream",
     "text": [
      "Requirement already satisfied: geopy in c:\\users\\admin\\anaconda3\\lib\\site-packages (2.0.0)\n",
      "Requirement already satisfied: geographiclib<2,>=1.49 in c:\\users\\admin\\anaconda3\\lib\\site-packages (from geopy) (1.50)\n"
     ]
    }
   ],
   "source": [
    "\n",
    "!pip install geopy\n",
    "\n"
   ]
  },
  {
   "cell_type": "code",
   "execution_count": 54,
   "metadata": {},
   "outputs": [
    {
     "name": "stdout",
     "output_type": "stream",
     "text": [
      "Nominatim imported\n"
     ]
    }
   ],
   "source": [
    "\n",
    "from geopy.geocoders import Nominatim\n",
    "print('Nominatim imported')\n",
    "\n"
   ]
  },
  {
   "cell_type": "markdown",
   "metadata": {},
   "source": [
    "\n",
    "<h3 id=\"Set-connection-to-OpenStreeMap\">Set connection to OpenStreeMap<a class=\"anchor-link\" href=\"https://eu-gb.dataplatform.cloud.ibm.com/data/notebooks/converter/assets/8313cc9b-a363-4980-afca-f0c4f43bbc7c?access_token=acfddd202ebf78e84ebbdf02cb21f341bace09392e6c82f3f43c638e1752b564&amp;project=4457a2e1-3686-4058-bec5-8b309caa746d#Set-connection-to-OpenStreeMap\">В¶</a></h3>\n"
   ]
  },
  {
   "cell_type": "code",
   "execution_count": 55,
   "metadata": {},
   "outputs": [
    {
     "data": {
      "text/html": [
       "<div>\n",
       "<style scoped>\n",
       "    .dataframe tbody tr th:only-of-type {\n",
       "        vertical-align: middle;\n",
       "    }\n",
       "\n",
       "    .dataframe tbody tr th {\n",
       "        vertical-align: top;\n",
       "    }\n",
       "\n",
       "    .dataframe thead th {\n",
       "        text-align: right;\n",
       "    }\n",
       "</style>\n",
       "<table border=\"1\" class=\"dataframe\">\n",
       "  <thead>\n",
       "    <tr style=\"text-align: right;\">\n",
       "      <th></th>\n",
       "      <th>PostalCode</th>\n",
       "      <th>Borough</th>\n",
       "      <th>Neighbourhood</th>\n",
       "      <th>address</th>\n",
       "    </tr>\n",
       "  </thead>\n",
       "  <tbody>\n",
       "    <tr>\n",
       "      <th>0</th>\n",
       "      <td>M1B</td>\n",
       "      <td>Scarborough</td>\n",
       "      <td>Malvern, Rouge</td>\n",
       "      <td>M1B,Scarborough,Malvern, Rouge</td>\n",
       "    </tr>\n",
       "    <tr>\n",
       "      <th>1</th>\n",
       "      <td>M1C</td>\n",
       "      <td>Scarborough</td>\n",
       "      <td>Rouge Hill, Port Union, Highland Creek</td>\n",
       "      <td>M1C,Scarborough,Rouge Hill, Port Union, Highla...</td>\n",
       "    </tr>\n",
       "    <tr>\n",
       "      <th>2</th>\n",
       "      <td>M1E</td>\n",
       "      <td>Scarborough</td>\n",
       "      <td>Guildwood, Morningside, West Hill</td>\n",
       "      <td>M1E,Scarborough,Guildwood, Morningside, West Hill</td>\n",
       "    </tr>\n",
       "    <tr>\n",
       "      <th>3</th>\n",
       "      <td>M1G</td>\n",
       "      <td>Scarborough</td>\n",
       "      <td>Woburn</td>\n",
       "      <td>M1G,Scarborough,Woburn</td>\n",
       "    </tr>\n",
       "    <tr>\n",
       "      <th>4</th>\n",
       "      <td>M1H</td>\n",
       "      <td>Scarborough</td>\n",
       "      <td>Cedarbrae</td>\n",
       "      <td>M1H,Scarborough,Cedarbrae</td>\n",
       "    </tr>\n",
       "  </tbody>\n",
       "</table>\n",
       "</div>"
      ],
      "text/plain": [
       "  PostalCode      Borough                           Neighbourhood  \\\n",
       "0        M1B  Scarborough                          Malvern, Rouge   \n",
       "1        M1C  Scarborough  Rouge Hill, Port Union, Highland Creek   \n",
       "2        M1E  Scarborough       Guildwood, Morningside, West Hill   \n",
       "3        M1G  Scarborough                                  Woburn   \n",
       "4        M1H  Scarborough                               Cedarbrae   \n",
       "\n",
       "                                             address  \n",
       "0                     M1B,Scarborough,Malvern, Rouge  \n",
       "1  M1C,Scarborough,Rouge Hill, Port Union, Highla...  \n",
       "2  M1E,Scarborough,Guildwood, Morningside, West Hill  \n",
       "3                             M1G,Scarborough,Woburn  \n",
       "4                          M1H,Scarborough,Cedarbrae  "
      ]
     },
     "execution_count": 55,
     "metadata": {},
     "output_type": "execute_result"
    }
   ],
   "source": [
    "\n",
    "df_geopy['address']=df_geopy['PostalCode'] + ',' + df_geopy['Borough'] + ','+ df_geopy['Neighbourhood']\n",
    "df_geopy.head()\n",
    "\n"
   ]
  },
  {
   "cell_type": "code",
   "execution_count": 56,
   "metadata": {},
   "outputs": [],
   "source": [
    "\n",
    "nom = Nominatim(user_agent=\"tor_explorer\")\n",
    "\n"
   ]
  },
  {
   "cell_type": "code",
   "execution_count": 57,
   "metadata": {},
   "outputs": [],
   "source": [
    "\n",
    "n=nom.geocode('M1B, Scarborough, Rouge,Malvern')\n",
    "n\n",
    "\n"
   ]
  },
  {
   "cell_type": "code",
   "execution_count": 58,
   "metadata": {},
   "outputs": [
    {
     "ename": "AttributeError",
     "evalue": "'NoneType' object has no attribute 'latitude'",
     "output_type": "error",
     "traceback": [
      "\u001b[1;31m---------------------------------------------------------------------------\u001b[0m",
      "\u001b[1;31mAttributeError\u001b[0m                            Traceback (most recent call last)",
      "\u001b[1;32m<ipython-input-58-d082f4d60902>\u001b[0m in \u001b[0;36m<module>\u001b[1;34m\u001b[0m\n\u001b[1;32m----> 1\u001b[1;33m \u001b[0mn\u001b[0m\u001b[1;33m.\u001b[0m\u001b[0mlatitude\u001b[0m\u001b[1;33m\u001b[0m\u001b[1;33m\u001b[0m\u001b[0m\n\u001b[0m\u001b[0;32m      2\u001b[0m \u001b[1;33m\u001b[0m\u001b[0m\n",
      "\u001b[1;31mAttributeError\u001b[0m: 'NoneType' object has no attribute 'latitude'"
     ]
    }
   ],
   "source": [
    "\n",
    "n.latitude\n",
    "\n"
   ]
  },
  {
   "cell_type": "code",
   "execution_count": 59,
   "metadata": {},
   "outputs": [
    {
     "data": {
      "text/plain": [
       "NoneType"
      ]
     },
     "execution_count": 59,
     "metadata": {},
     "output_type": "execute_result"
    }
   ],
   "source": [
    "\n",
    "type(n)\n",
    "\n"
   ]
  },
  {
   "cell_type": "markdown",
   "metadata": {},
   "source": [
    "\n",
    "<h3 id=\"Watch-out-for-None-values\">Watch out for None values<a class=\"anchor-link\" href=\"https://eu-gb.dataplatform.cloud.ibm.com/data/notebooks/converter/assets/8313cc9b-a363-4980-afca-f0c4f43bbc7c?access_token=acfddd202ebf78e84ebbdf02cb21f341bace09392e6c82f3f43c638e1752b564&amp;project=4457a2e1-3686-4058-bec5-8b309caa746d#Watch-out-for-None-values\">В¶</a></h3>\n"
   ]
  },
  {
   "cell_type": "code",
   "execution_count": 60,
   "metadata": {},
   "outputs": [
    {
     "name": "stdout",
     "output_type": "stream",
     "text": [
      "None\n"
     ]
    }
   ],
   "source": [
    "\n",
    "n2=nom.geocode('M1E Scarborough Guildwood,Morningside,West Hill')\n",
    "print(n2)\n",
    "\n"
   ]
  },
  {
   "cell_type": "code",
   "execution_count": 61,
   "metadata": {},
   "outputs": [
    {
     "data": {
      "text/html": [
       "<div>\n",
       "<style scoped>\n",
       "    .dataframe tbody tr th:only-of-type {\n",
       "        vertical-align: middle;\n",
       "    }\n",
       "\n",
       "    .dataframe tbody tr th {\n",
       "        vertical-align: top;\n",
       "    }\n",
       "\n",
       "    .dataframe thead th {\n",
       "        text-align: right;\n",
       "    }\n",
       "</style>\n",
       "<table border=\"1\" class=\"dataframe\">\n",
       "  <thead>\n",
       "    <tr style=\"text-align: right;\">\n",
       "      <th></th>\n",
       "      <th>PostalCode</th>\n",
       "      <th>Borough</th>\n",
       "      <th>Neighbourhood</th>\n",
       "      <th>address</th>\n",
       "      <th>Coordinates</th>\n",
       "    </tr>\n",
       "  </thead>\n",
       "  <tbody>\n",
       "    <tr>\n",
       "      <th>0</th>\n",
       "      <td>M1B</td>\n",
       "      <td>Scarborough</td>\n",
       "      <td>Malvern, Rouge</td>\n",
       "      <td>M1B,Scarborough,Malvern, Rouge</td>\n",
       "      <td>None</td>\n",
       "    </tr>\n",
       "    <tr>\n",
       "      <th>1</th>\n",
       "      <td>M1C</td>\n",
       "      <td>Scarborough</td>\n",
       "      <td>Rouge Hill, Port Union, Highland Creek</td>\n",
       "      <td>M1C,Scarborough,Rouge Hill, Port Union, Highla...</td>\n",
       "      <td>None</td>\n",
       "    </tr>\n",
       "    <tr>\n",
       "      <th>2</th>\n",
       "      <td>M1E</td>\n",
       "      <td>Scarborough</td>\n",
       "      <td>Guildwood, Morningside, West Hill</td>\n",
       "      <td>M1E,Scarborough,Guildwood, Morningside, West Hill</td>\n",
       "      <td>None</td>\n",
       "    </tr>\n",
       "    <tr>\n",
       "      <th>3</th>\n",
       "      <td>M1G</td>\n",
       "      <td>Scarborough</td>\n",
       "      <td>Woburn</td>\n",
       "      <td>M1G,Scarborough,Woburn</td>\n",
       "      <td>(Woburn, Scarborough—Guildwood, Scarborough, T...</td>\n",
       "    </tr>\n",
       "    <tr>\n",
       "      <th>4</th>\n",
       "      <td>M1H</td>\n",
       "      <td>Scarborough</td>\n",
       "      <td>Cedarbrae</td>\n",
       "      <td>M1H,Scarborough,Cedarbrae</td>\n",
       "      <td>None</td>\n",
       "    </tr>\n",
       "  </tbody>\n",
       "</table>\n",
       "</div>"
      ],
      "text/plain": [
       "  PostalCode      Borough                           Neighbourhood  \\\n",
       "0        M1B  Scarborough                          Malvern, Rouge   \n",
       "1        M1C  Scarborough  Rouge Hill, Port Union, Highland Creek   \n",
       "2        M1E  Scarborough       Guildwood, Morningside, West Hill   \n",
       "3        M1G  Scarborough                                  Woburn   \n",
       "4        M1H  Scarborough                               Cedarbrae   \n",
       "\n",
       "                                             address  \\\n",
       "0                     M1B,Scarborough,Malvern, Rouge   \n",
       "1  M1C,Scarborough,Rouge Hill, Port Union, Highla...   \n",
       "2  M1E,Scarborough,Guildwood, Morningside, West Hill   \n",
       "3                             M1G,Scarborough,Woburn   \n",
       "4                          M1H,Scarborough,Cedarbrae   \n",
       "\n",
       "                                         Coordinates  \n",
       "0                                               None  \n",
       "1                                               None  \n",
       "2                                               None  \n",
       "3  (Woburn, Scarborough—Guildwood, Scarborough, T...  \n",
       "4                                               None  "
      ]
     },
     "execution_count": 61,
     "metadata": {},
     "output_type": "execute_result"
    }
   ],
   "source": [
    "\n",
    "df_geopy['Coordinates'] =df_geopy['address'].apply(nom.geocode)\n",
    "df_geopy.head()\n",
    "\n"
   ]
  },
  {
   "cell_type": "markdown",
   "metadata": {},
   "source": [
    "\n",
    "<h4 id=\"location-objects-created-at-'Coordinates'\">location objects created at 'Coordinates'<a class=\"anchor-link\" href=\"https://eu-gb.dataplatform.cloud.ibm.com/data/notebooks/converter/assets/8313cc9b-a363-4980-afca-f0c4f43bbc7c?access_token=acfddd202ebf78e84ebbdf02cb21f341bace09392e6c82f3f43c638e1752b564&amp;project=4457a2e1-3686-4058-bec5-8b309caa746d#location-objects-created-at-'Coordinates'\">В¶</a></h4>\n"
   ]
  },
  {
   "cell_type": "code",
   "execution_count": 62,
   "metadata": {},
   "outputs": [
    {
     "name": "stdout",
     "output_type": "stream",
     "text": [
      "<class 'pandas.core.frame.DataFrame'>\n",
      "Int64Index: 103 entries, 0 to 102\n",
      "Data columns (total 5 columns):\n",
      " #   Column         Non-Null Count  Dtype \n",
      "---  ------         --------------  ----- \n",
      " 0   PostalCode     103 non-null    object\n",
      " 1   Borough        103 non-null    object\n",
      " 2   Neighbourhood  103 non-null    object\n",
      " 3   address        103 non-null    object\n",
      " 4   Coordinates    3 non-null      object\n",
      "dtypes: object(5)\n",
      "memory usage: 4.8+ KB\n"
     ]
    }
   ],
   "source": [
    "\n",
    "df_geopy.info()\n",
    "\n"
   ]
  },
  {
   "cell_type": "code",
   "execution_count": 63,
   "metadata": {},
   "outputs": [],
   "source": [
    "\n",
    "df_geopy.Coordinates[0]\n",
    "\n"
   ]
  },
  {
   "cell_type": "code",
   "execution_count": 64,
   "metadata": {},
   "outputs": [
    {
     "name": "stdout",
     "output_type": "stream",
     "text": [
      "None\n"
     ]
    }
   ],
   "source": [
    "\n",
    "print(df_geopy.Coordinates[1])\n",
    "\n"
   ]
  },
  {
   "cell_type": "code",
   "execution_count": 65,
   "metadata": {},
   "outputs": [
    {
     "data": {
      "text/html": [
       "<div>\n",
       "<style scoped>\n",
       "    .dataframe tbody tr th:only-of-type {\n",
       "        vertical-align: middle;\n",
       "    }\n",
       "\n",
       "    .dataframe tbody tr th {\n",
       "        vertical-align: top;\n",
       "    }\n",
       "\n",
       "    .dataframe thead th {\n",
       "        text-align: right;\n",
       "    }\n",
       "</style>\n",
       "<table border=\"1\" class=\"dataframe\">\n",
       "  <thead>\n",
       "    <tr style=\"text-align: right;\">\n",
       "      <th></th>\n",
       "      <th>PostalCode</th>\n",
       "      <th>Borough</th>\n",
       "      <th>Neighbourhood</th>\n",
       "      <th>address</th>\n",
       "      <th>Coordinates</th>\n",
       "      <th>latitude</th>\n",
       "      <th>longitude</th>\n",
       "    </tr>\n",
       "  </thead>\n",
       "  <tbody>\n",
       "    <tr>\n",
       "      <th>0</th>\n",
       "      <td>M1B</td>\n",
       "      <td>Scarborough</td>\n",
       "      <td>Malvern, Rouge</td>\n",
       "      <td>M1B,Scarborough,Malvern, Rouge</td>\n",
       "      <td>None</td>\n",
       "      <td>NaN</td>\n",
       "      <td>NaN</td>\n",
       "    </tr>\n",
       "    <tr>\n",
       "      <th>1</th>\n",
       "      <td>M1C</td>\n",
       "      <td>Scarborough</td>\n",
       "      <td>Rouge Hill, Port Union, Highland Creek</td>\n",
       "      <td>M1C,Scarborough,Rouge Hill, Port Union, Highla...</td>\n",
       "      <td>None</td>\n",
       "      <td>NaN</td>\n",
       "      <td>NaN</td>\n",
       "    </tr>\n",
       "    <tr>\n",
       "      <th>2</th>\n",
       "      <td>M1E</td>\n",
       "      <td>Scarborough</td>\n",
       "      <td>Guildwood, Morningside, West Hill</td>\n",
       "      <td>M1E,Scarborough,Guildwood, Morningside, West Hill</td>\n",
       "      <td>None</td>\n",
       "      <td>NaN</td>\n",
       "      <td>NaN</td>\n",
       "    </tr>\n",
       "    <tr>\n",
       "      <th>3</th>\n",
       "      <td>M1G</td>\n",
       "      <td>Scarborough</td>\n",
       "      <td>Woburn</td>\n",
       "      <td>M1G,Scarborough,Woburn</td>\n",
       "      <td>(Woburn, Scarborough—Guildwood, Scarborough, T...</td>\n",
       "      <td>43.759824</td>\n",
       "      <td>-79.225291</td>\n",
       "    </tr>\n",
       "    <tr>\n",
       "      <th>4</th>\n",
       "      <td>M1H</td>\n",
       "      <td>Scarborough</td>\n",
       "      <td>Cedarbrae</td>\n",
       "      <td>M1H,Scarborough,Cedarbrae</td>\n",
       "      <td>None</td>\n",
       "      <td>NaN</td>\n",
       "      <td>NaN</td>\n",
       "    </tr>\n",
       "  </tbody>\n",
       "</table>\n",
       "</div>"
      ],
      "text/plain": [
       "  PostalCode      Borough                           Neighbourhood  \\\n",
       "0        M1B  Scarborough                          Malvern, Rouge   \n",
       "1        M1C  Scarborough  Rouge Hill, Port Union, Highland Creek   \n",
       "2        M1E  Scarborough       Guildwood, Morningside, West Hill   \n",
       "3        M1G  Scarborough                                  Woburn   \n",
       "4        M1H  Scarborough                               Cedarbrae   \n",
       "\n",
       "                                             address  \\\n",
       "0                     M1B,Scarborough,Malvern, Rouge   \n",
       "1  M1C,Scarborough,Rouge Hill, Port Union, Highla...   \n",
       "2  M1E,Scarborough,Guildwood, Morningside, West Hill   \n",
       "3                             M1G,Scarborough,Woburn   \n",
       "4                          M1H,Scarborough,Cedarbrae   \n",
       "\n",
       "                                         Coordinates   latitude  longitude  \n",
       "0                                               None        NaN        NaN  \n",
       "1                                               None        NaN        NaN  \n",
       "2                                               None        NaN        NaN  \n",
       "3  (Woburn, Scarborough—Guildwood, Scarborough, T...  43.759824 -79.225291  \n",
       "4                                               None        NaN        NaN  "
      ]
     },
     "execution_count": 65,
     "metadata": {},
     "output_type": "execute_result"
    }
   ],
   "source": [
    "\n",
    "df_geopy['latitude']=df_geopy['Coordinates'].apply(lambda x: x.latitude if x !=None else None)\n",
    "df_geopy['longitude']=df_geopy['Coordinates'].apply(lambda x: x.longitude if x !=None else None)\n",
    "df_geopy.head()\n",
    "\n"
   ]
  },
  {
   "cell_type": "code",
   "execution_count": 66,
   "metadata": {},
   "outputs": [],
   "source": [
    "\n",
    "df_geopy.to_csv('geo_loc_py.csv')\n",
    "\n"
   ]
  },
  {
   "cell_type": "markdown",
   "metadata": {},
   "source": [
    "\n",
    "<h4 id=\"As-just-5-addresses-were-fruitful,-we-will-go-on-to-use-the-given-geo-location-data.\">As just 5 addresses were fruitful, we will go on to use the given geo-location data.<a class=\"anchor-link\" href=\"https://eu-gb.dataplatform.cloud.ibm.com/data/notebooks/converter/assets/8313cc9b-a363-4980-afca-f0c4f43bbc7c?access_token=acfddd202ebf78e84ebbdf02cb21f341bace09392e6c82f3f43c638e1752b564&amp;project=4457a2e1-3686-4058-bec5-8b309caa746d#As-just-5-addresses-were-fruitful,-we-will-go-on-to-use-the-given-geo-location-data.\">В¶</a></h4>\n"
   ]
  },
  {
   "cell_type": "code",
   "execution_count": 67,
   "metadata": {},
   "outputs": [
    {
     "name": "stdout",
     "output_type": "stream",
     "text": [
      "The latitude of M1B,Scarborough,Malvern, Rouge is nan and its longitude is nan\n"
     ]
    }
   ],
   "source": [
    "\n",
    "print('The latitude of', df_geopy.address[0],  'is', df_geopy.latitude[0], 'and its longitude is',df_geopy.longitude[0])\n",
    "\n"
   ]
  },
  {
   "cell_type": "markdown",
   "metadata": {},
   "source": [
    "\n",
    "<h2 id=\"2.2.-Used-the-csv-file-to-create-the-requested-dataframe\">2.2. Used the csv file to create the requested dataframe<a class=\"anchor-link\" href=\"https://eu-gb.dataplatform.cloud.ibm.com/data/notebooks/converter/assets/8313cc9b-a363-4980-afca-f0c4f43bbc7c?access_token=acfddd202ebf78e84ebbdf02cb21f341bace09392e6c82f3f43c638e1752b564&amp;project=4457a2e1-3686-4058-bec5-8b309caa746d#2.2.-Used-the-csv-file-to-create-the-requested-dataframe\">В¶</a></h2>\n"
   ]
  },
  {
   "cell_type": "code",
   "execution_count": 68,
   "metadata": {},
   "outputs": [
    {
     "data": {
      "text/html": [
       "<div>\n",
       "<style scoped>\n",
       "    .dataframe tbody tr th:only-of-type {\n",
       "        vertical-align: middle;\n",
       "    }\n",
       "\n",
       "    .dataframe tbody tr th {\n",
       "        vertical-align: top;\n",
       "    }\n",
       "\n",
       "    .dataframe thead th {\n",
       "        text-align: right;\n",
       "    }\n",
       "</style>\n",
       "<table border=\"1\" class=\"dataframe\">\n",
       "  <thead>\n",
       "    <tr style=\"text-align: right;\">\n",
       "      <th></th>\n",
       "      <th>Unnamed: 0</th>\n",
       "      <th>PostalCode</th>\n",
       "      <th>Borough</th>\n",
       "      <th>Neighbourhood</th>\n",
       "      <th>address</th>\n",
       "    </tr>\n",
       "  </thead>\n",
       "  <tbody>\n",
       "    <tr>\n",
       "      <th>0</th>\n",
       "      <td>0</td>\n",
       "      <td>M1B</td>\n",
       "      <td>Scarborough</td>\n",
       "      <td>Malvern, Rouge</td>\n",
       "      <td>M1B, Scarborough, Malvern, Rouge</td>\n",
       "    </tr>\n",
       "    <tr>\n",
       "      <th>1</th>\n",
       "      <td>1</td>\n",
       "      <td>M1C</td>\n",
       "      <td>Scarborough</td>\n",
       "      <td>Rouge Hill, Port Union, Highland Creek</td>\n",
       "      <td>M1C, Scarborough, Rouge Hill, Port Union, High...</td>\n",
       "    </tr>\n",
       "    <tr>\n",
       "      <th>2</th>\n",
       "      <td>2</td>\n",
       "      <td>M1E</td>\n",
       "      <td>Scarborough</td>\n",
       "      <td>Guildwood, Morningside, West Hill</td>\n",
       "      <td>M1E, Scarborough, Guildwood, Morningside, West...</td>\n",
       "    </tr>\n",
       "    <tr>\n",
       "      <th>3</th>\n",
       "      <td>3</td>\n",
       "      <td>M1G</td>\n",
       "      <td>Scarborough</td>\n",
       "      <td>Woburn</td>\n",
       "      <td>M1G, Scarborough, Woburn</td>\n",
       "    </tr>\n",
       "    <tr>\n",
       "      <th>4</th>\n",
       "      <td>4</td>\n",
       "      <td>M1H</td>\n",
       "      <td>Scarborough</td>\n",
       "      <td>Cedarbrae</td>\n",
       "      <td>M1H, Scarborough, Cedarbrae</td>\n",
       "    </tr>\n",
       "  </tbody>\n",
       "</table>\n",
       "</div>"
      ],
      "text/plain": [
       "   Unnamed: 0 PostalCode      Borough                           Neighbourhood  \\\n",
       "0           0        M1B  Scarborough                          Malvern, Rouge   \n",
       "1           1        M1C  Scarborough  Rouge Hill, Port Union, Highland Creek   \n",
       "2           2        M1E  Scarborough       Guildwood, Morningside, West Hill   \n",
       "3           3        M1G  Scarborough                                  Woburn   \n",
       "4           4        M1H  Scarborough                               Cedarbrae   \n",
       "\n",
       "                                             address  \n",
       "0                   M1B, Scarborough, Malvern, Rouge  \n",
       "1  M1C, Scarborough, Rouge Hill, Port Union, High...  \n",
       "2  M1E, Scarborough, Guildwood, Morningside, West...  \n",
       "3                           M1G, Scarborough, Woburn  \n",
       "4                        M1H, Scarborough, Cedarbrae  "
      ]
     },
     "execution_count": 68,
     "metadata": {},
     "output_type": "execute_result"
    }
   ],
   "source": [
    "\n",
    "# Load the Pandas libraries with alias 'pd' \n",
    "import pandas as pd \n",
    "# Read data from file 'filename.csv' \n",
    "# (in the same directory that your python process is based)\n",
    "# Control delimiters, rows, column names with read_csv (see later) \n",
    "data2 = pd.read_csv(\"geopy.csv\") \n",
    "# Preview the first 5 lines of the loaded data \n",
    "data2.head()\n",
    "\n"
   ]
  },
  {
   "cell_type": "code",
   "execution_count": 69,
   "metadata": {},
   "outputs": [
    {
     "ename": "FileNotFoundError",
     "evalue": "[Errno 2] File Geospatial_Coordinates.csv does not exist: 'Geospatial_Coordinates.csv'",
     "output_type": "error",
     "traceback": [
      "\u001b[1;31m---------------------------------------------------------------------------\u001b[0m",
      "\u001b[1;31mFileNotFoundError\u001b[0m                         Traceback (most recent call last)",
      "\u001b[1;32m<ipython-input-69-469637a1d086>\u001b[0m in \u001b[0;36m<module>\u001b[1;34m\u001b[0m\n\u001b[1;32m----> 1\u001b[1;33m \u001b[0mdata3\u001b[0m \u001b[1;33m=\u001b[0m \u001b[0mpd\u001b[0m\u001b[1;33m.\u001b[0m\u001b[0mread_csv\u001b[0m\u001b[1;33m(\u001b[0m\u001b[1;34m\"Geospatial_Coordinates.csv\"\u001b[0m\u001b[1;33m)\u001b[0m\u001b[1;33m\u001b[0m\u001b[1;33m\u001b[0m\u001b[0m\n\u001b[0m\u001b[0;32m      2\u001b[0m \u001b[1;31m# Preview the first 5 lines of the loaded data\u001b[0m\u001b[1;33m\u001b[0m\u001b[1;33m\u001b[0m\u001b[1;33m\u001b[0m\u001b[0m\n\u001b[0;32m      3\u001b[0m \u001b[0mdata3\u001b[0m\u001b[1;33m.\u001b[0m\u001b[0mhead\u001b[0m\u001b[1;33m(\u001b[0m\u001b[1;33m)\u001b[0m\u001b[1;33m\u001b[0m\u001b[1;33m\u001b[0m\u001b[0m\n\u001b[0;32m      4\u001b[0m \u001b[1;33m\u001b[0m\u001b[0m\n",
      "\u001b[1;32m~\\anaconda3\\lib\\site-packages\\pandas\\io\\parsers.py\u001b[0m in \u001b[0;36mparser_f\u001b[1;34m(filepath_or_buffer, sep, delimiter, header, names, index_col, usecols, squeeze, prefix, mangle_dupe_cols, dtype, engine, converters, true_values, false_values, skipinitialspace, skiprows, skipfooter, nrows, na_values, keep_default_na, na_filter, verbose, skip_blank_lines, parse_dates, infer_datetime_format, keep_date_col, date_parser, dayfirst, cache_dates, iterator, chunksize, compression, thousands, decimal, lineterminator, quotechar, quoting, doublequote, escapechar, comment, encoding, dialect, error_bad_lines, warn_bad_lines, delim_whitespace, low_memory, memory_map, float_precision)\u001b[0m\n\u001b[0;32m    674\u001b[0m         )\n\u001b[0;32m    675\u001b[0m \u001b[1;33m\u001b[0m\u001b[0m\n\u001b[1;32m--> 676\u001b[1;33m         \u001b[1;32mreturn\u001b[0m \u001b[0m_read\u001b[0m\u001b[1;33m(\u001b[0m\u001b[0mfilepath_or_buffer\u001b[0m\u001b[1;33m,\u001b[0m \u001b[0mkwds\u001b[0m\u001b[1;33m)\u001b[0m\u001b[1;33m\u001b[0m\u001b[1;33m\u001b[0m\u001b[0m\n\u001b[0m\u001b[0;32m    677\u001b[0m \u001b[1;33m\u001b[0m\u001b[0m\n\u001b[0;32m    678\u001b[0m     \u001b[0mparser_f\u001b[0m\u001b[1;33m.\u001b[0m\u001b[0m__name__\u001b[0m \u001b[1;33m=\u001b[0m \u001b[0mname\u001b[0m\u001b[1;33m\u001b[0m\u001b[1;33m\u001b[0m\u001b[0m\n",
      "\u001b[1;32m~\\anaconda3\\lib\\site-packages\\pandas\\io\\parsers.py\u001b[0m in \u001b[0;36m_read\u001b[1;34m(filepath_or_buffer, kwds)\u001b[0m\n\u001b[0;32m    446\u001b[0m \u001b[1;33m\u001b[0m\u001b[0m\n\u001b[0;32m    447\u001b[0m     \u001b[1;31m# Create the parser.\u001b[0m\u001b[1;33m\u001b[0m\u001b[1;33m\u001b[0m\u001b[1;33m\u001b[0m\u001b[0m\n\u001b[1;32m--> 448\u001b[1;33m     \u001b[0mparser\u001b[0m \u001b[1;33m=\u001b[0m \u001b[0mTextFileReader\u001b[0m\u001b[1;33m(\u001b[0m\u001b[0mfp_or_buf\u001b[0m\u001b[1;33m,\u001b[0m \u001b[1;33m**\u001b[0m\u001b[0mkwds\u001b[0m\u001b[1;33m)\u001b[0m\u001b[1;33m\u001b[0m\u001b[1;33m\u001b[0m\u001b[0m\n\u001b[0m\u001b[0;32m    449\u001b[0m \u001b[1;33m\u001b[0m\u001b[0m\n\u001b[0;32m    450\u001b[0m     \u001b[1;32mif\u001b[0m \u001b[0mchunksize\u001b[0m \u001b[1;32mor\u001b[0m \u001b[0miterator\u001b[0m\u001b[1;33m:\u001b[0m\u001b[1;33m\u001b[0m\u001b[1;33m\u001b[0m\u001b[0m\n",
      "\u001b[1;32m~\\anaconda3\\lib\\site-packages\\pandas\\io\\parsers.py\u001b[0m in \u001b[0;36m__init__\u001b[1;34m(self, f, engine, **kwds)\u001b[0m\n\u001b[0;32m    878\u001b[0m             \u001b[0mself\u001b[0m\u001b[1;33m.\u001b[0m\u001b[0moptions\u001b[0m\u001b[1;33m[\u001b[0m\u001b[1;34m\"has_index_names\"\u001b[0m\u001b[1;33m]\u001b[0m \u001b[1;33m=\u001b[0m \u001b[0mkwds\u001b[0m\u001b[1;33m[\u001b[0m\u001b[1;34m\"has_index_names\"\u001b[0m\u001b[1;33m]\u001b[0m\u001b[1;33m\u001b[0m\u001b[1;33m\u001b[0m\u001b[0m\n\u001b[0;32m    879\u001b[0m \u001b[1;33m\u001b[0m\u001b[0m\n\u001b[1;32m--> 880\u001b[1;33m         \u001b[0mself\u001b[0m\u001b[1;33m.\u001b[0m\u001b[0m_make_engine\u001b[0m\u001b[1;33m(\u001b[0m\u001b[0mself\u001b[0m\u001b[1;33m.\u001b[0m\u001b[0mengine\u001b[0m\u001b[1;33m)\u001b[0m\u001b[1;33m\u001b[0m\u001b[1;33m\u001b[0m\u001b[0m\n\u001b[0m\u001b[0;32m    881\u001b[0m \u001b[1;33m\u001b[0m\u001b[0m\n\u001b[0;32m    882\u001b[0m     \u001b[1;32mdef\u001b[0m \u001b[0mclose\u001b[0m\u001b[1;33m(\u001b[0m\u001b[0mself\u001b[0m\u001b[1;33m)\u001b[0m\u001b[1;33m:\u001b[0m\u001b[1;33m\u001b[0m\u001b[1;33m\u001b[0m\u001b[0m\n",
      "\u001b[1;32m~\\anaconda3\\lib\\site-packages\\pandas\\io\\parsers.py\u001b[0m in \u001b[0;36m_make_engine\u001b[1;34m(self, engine)\u001b[0m\n\u001b[0;32m   1112\u001b[0m     \u001b[1;32mdef\u001b[0m \u001b[0m_make_engine\u001b[0m\u001b[1;33m(\u001b[0m\u001b[0mself\u001b[0m\u001b[1;33m,\u001b[0m \u001b[0mengine\u001b[0m\u001b[1;33m=\u001b[0m\u001b[1;34m\"c\"\u001b[0m\u001b[1;33m)\u001b[0m\u001b[1;33m:\u001b[0m\u001b[1;33m\u001b[0m\u001b[1;33m\u001b[0m\u001b[0m\n\u001b[0;32m   1113\u001b[0m         \u001b[1;32mif\u001b[0m \u001b[0mengine\u001b[0m \u001b[1;33m==\u001b[0m \u001b[1;34m\"c\"\u001b[0m\u001b[1;33m:\u001b[0m\u001b[1;33m\u001b[0m\u001b[1;33m\u001b[0m\u001b[0m\n\u001b[1;32m-> 1114\u001b[1;33m             \u001b[0mself\u001b[0m\u001b[1;33m.\u001b[0m\u001b[0m_engine\u001b[0m \u001b[1;33m=\u001b[0m \u001b[0mCParserWrapper\u001b[0m\u001b[1;33m(\u001b[0m\u001b[0mself\u001b[0m\u001b[1;33m.\u001b[0m\u001b[0mf\u001b[0m\u001b[1;33m,\u001b[0m \u001b[1;33m**\u001b[0m\u001b[0mself\u001b[0m\u001b[1;33m.\u001b[0m\u001b[0moptions\u001b[0m\u001b[1;33m)\u001b[0m\u001b[1;33m\u001b[0m\u001b[1;33m\u001b[0m\u001b[0m\n\u001b[0m\u001b[0;32m   1115\u001b[0m         \u001b[1;32melse\u001b[0m\u001b[1;33m:\u001b[0m\u001b[1;33m\u001b[0m\u001b[1;33m\u001b[0m\u001b[0m\n\u001b[0;32m   1116\u001b[0m             \u001b[1;32mif\u001b[0m \u001b[0mengine\u001b[0m \u001b[1;33m==\u001b[0m \u001b[1;34m\"python\"\u001b[0m\u001b[1;33m:\u001b[0m\u001b[1;33m\u001b[0m\u001b[1;33m\u001b[0m\u001b[0m\n",
      "\u001b[1;32m~\\anaconda3\\lib\\site-packages\\pandas\\io\\parsers.py\u001b[0m in \u001b[0;36m__init__\u001b[1;34m(self, src, **kwds)\u001b[0m\n\u001b[0;32m   1889\u001b[0m         \u001b[0mkwds\u001b[0m\u001b[1;33m[\u001b[0m\u001b[1;34m\"usecols\"\u001b[0m\u001b[1;33m]\u001b[0m \u001b[1;33m=\u001b[0m \u001b[0mself\u001b[0m\u001b[1;33m.\u001b[0m\u001b[0musecols\u001b[0m\u001b[1;33m\u001b[0m\u001b[1;33m\u001b[0m\u001b[0m\n\u001b[0;32m   1890\u001b[0m \u001b[1;33m\u001b[0m\u001b[0m\n\u001b[1;32m-> 1891\u001b[1;33m         \u001b[0mself\u001b[0m\u001b[1;33m.\u001b[0m\u001b[0m_reader\u001b[0m \u001b[1;33m=\u001b[0m \u001b[0mparsers\u001b[0m\u001b[1;33m.\u001b[0m\u001b[0mTextReader\u001b[0m\u001b[1;33m(\u001b[0m\u001b[0msrc\u001b[0m\u001b[1;33m,\u001b[0m \u001b[1;33m**\u001b[0m\u001b[0mkwds\u001b[0m\u001b[1;33m)\u001b[0m\u001b[1;33m\u001b[0m\u001b[1;33m\u001b[0m\u001b[0m\n\u001b[0m\u001b[0;32m   1892\u001b[0m         \u001b[0mself\u001b[0m\u001b[1;33m.\u001b[0m\u001b[0munnamed_cols\u001b[0m \u001b[1;33m=\u001b[0m \u001b[0mself\u001b[0m\u001b[1;33m.\u001b[0m\u001b[0m_reader\u001b[0m\u001b[1;33m.\u001b[0m\u001b[0munnamed_cols\u001b[0m\u001b[1;33m\u001b[0m\u001b[1;33m\u001b[0m\u001b[0m\n\u001b[0;32m   1893\u001b[0m \u001b[1;33m\u001b[0m\u001b[0m\n",
      "\u001b[1;32mpandas\\_libs\\parsers.pyx\u001b[0m in \u001b[0;36mpandas._libs.parsers.TextReader.__cinit__\u001b[1;34m()\u001b[0m\n",
      "\u001b[1;32mpandas\\_libs\\parsers.pyx\u001b[0m in \u001b[0;36mpandas._libs.parsers.TextReader._setup_parser_source\u001b[1;34m()\u001b[0m\n",
      "\u001b[1;31mFileNotFoundError\u001b[0m: [Errno 2] File Geospatial_Coordinates.csv does not exist: 'Geospatial_Coordinates.csv'"
     ]
    }
   ],
   "source": [
    "\n",
    "data3 = pd.read_csv(\"Geospatial_Coordinates.csv\") \n",
    "# Preview the first 5 lines of the loaded data \n",
    "data3.head()\n",
    "\n"
   ]
  },
  {
   "cell_type": "markdown",
   "metadata": {},
   "source": [
    "\n",
    "<ul>\n",
    "<li>Rename 'Postal Code'</li>\n",
    "</ul>\n"
   ]
  },
  {
   "cell_type": "code",
   "execution_count": 70,
   "metadata": {},
   "outputs": [
    {
     "ename": "NameError",
     "evalue": "name 'data3' is not defined",
     "output_type": "error",
     "traceback": [
      "\u001b[1;31m---------------------------------------------------------------------------\u001b[0m",
      "\u001b[1;31mNameError\u001b[0m                                 Traceback (most recent call last)",
      "\u001b[1;32m<ipython-input-70-ba98d8c96aef>\u001b[0m in \u001b[0;36m<module>\u001b[1;34m\u001b[0m\n\u001b[1;32m----> 1\u001b[1;33m \u001b[0mdata3\u001b[0m\u001b[1;33m.\u001b[0m\u001b[0mrename\u001b[0m\u001b[1;33m(\u001b[0m\u001b[0mcolumns\u001b[0m\u001b[1;33m=\u001b[0m\u001b[1;33m{\u001b[0m\u001b[1;34m'Postal Code'\u001b[0m\u001b[1;33m:\u001b[0m \u001b[1;34m'PostalCode'\u001b[0m\u001b[1;33m}\u001b[0m\u001b[1;33m,\u001b[0m \u001b[0minplace\u001b[0m\u001b[1;33m=\u001b[0m\u001b[1;32mTrue\u001b[0m\u001b[1;33m)\u001b[0m\u001b[1;33m\u001b[0m\u001b[1;33m\u001b[0m\u001b[0m\n\u001b[0m\u001b[0;32m      2\u001b[0m \u001b[1;31m#data3.head()\u001b[0m\u001b[1;33m\u001b[0m\u001b[1;33m\u001b[0m\u001b[1;33m\u001b[0m\u001b[0m\n\u001b[0;32m      3\u001b[0m \u001b[1;33m\u001b[0m\u001b[0m\n",
      "\u001b[1;31mNameError\u001b[0m: name 'data3' is not defined"
     ]
    }
   ],
   "source": [
    "\n",
    "data3.rename(columns={'Postal Code': 'PostalCode'}, inplace=True)\n",
    "#data3.head()\n",
    "\n"
   ]
  },
  {
   "cell_type": "code",
   "execution_count": 71,
   "metadata": {},
   "outputs": [
    {
     "ename": "NameError",
     "evalue": "name 'data3' is not defined",
     "output_type": "error",
     "traceback": [
      "\u001b[1;31m---------------------------------------------------------------------------\u001b[0m",
      "\u001b[1;31mNameError\u001b[0m                                 Traceback (most recent call last)",
      "\u001b[1;32m<ipython-input-71-46ba4ece9928>\u001b[0m in \u001b[0;36m<module>\u001b[1;34m\u001b[0m\n\u001b[1;32m----> 1\u001b[1;33m data1 = pd.merge(data3, data2, how='inner', on=None, left_on=None, right_on=None,\n\u001b[0m\u001b[0;32m      2\u001b[0m          \u001b[0mleft_index\u001b[0m\u001b[1;33m=\u001b[0m\u001b[1;32mFalse\u001b[0m\u001b[1;33m,\u001b[0m \u001b[0mright_index\u001b[0m\u001b[1;33m=\u001b[0m\u001b[1;32mFalse\u001b[0m\u001b[1;33m,\u001b[0m \u001b[0msort\u001b[0m\u001b[1;33m=\u001b[0m\u001b[1;32mTrue\u001b[0m\u001b[1;33m,\u001b[0m\u001b[1;33m\u001b[0m\u001b[1;33m\u001b[0m\u001b[0m\n\u001b[0;32m      3\u001b[0m          \u001b[0msuffixes\u001b[0m\u001b[1;33m=\u001b[0m\u001b[1;33m(\u001b[0m\u001b[1;34m'_x'\u001b[0m\u001b[1;33m,\u001b[0m \u001b[1;34m'_y'\u001b[0m\u001b[1;33m)\u001b[0m\u001b[1;33m,\u001b[0m \u001b[0mcopy\u001b[0m\u001b[1;33m=\u001b[0m\u001b[1;32mTrue\u001b[0m\u001b[1;33m,\u001b[0m \u001b[0mindicator\u001b[0m\u001b[1;33m=\u001b[0m\u001b[1;32mFalse\u001b[0m\u001b[1;33m,\u001b[0m\u001b[1;33m\u001b[0m\u001b[1;33m\u001b[0m\u001b[0m\n\u001b[0;32m      4\u001b[0m          validate=None)\n\u001b[0;32m      5\u001b[0m \u001b[1;33m\u001b[0m\u001b[0m\n",
      "\u001b[1;31mNameError\u001b[0m: name 'data3' is not defined"
     ]
    }
   ],
   "source": [
    "\n",
    "data1 = pd.merge(data3, data2, how='inner', on=None, left_on=None, right_on=None,\n",
    "         left_index=False, right_index=False, sort=True,\n",
    "         suffixes=('_x', '_y'), copy=True, indicator=False,\n",
    "         validate=None)\n",
    "\n",
    "data1.head()\n",
    "\n"
   ]
  },
  {
   "cell_type": "code",
   "execution_count": 72,
   "metadata": {},
   "outputs": [
    {
     "ename": "NameError",
     "evalue": "name 'data1' is not defined",
     "output_type": "error",
     "traceback": [
      "\u001b[1;31m---------------------------------------------------------------------------\u001b[0m",
      "\u001b[1;31mNameError\u001b[0m                                 Traceback (most recent call last)",
      "\u001b[1;32m<ipython-input-72-1443a90df3db>\u001b[0m in \u001b[0;36m<module>\u001b[1;34m\u001b[0m\n\u001b[1;32m----> 1\u001b[1;33m \u001b[0mdata1\u001b[0m\u001b[1;33m.\u001b[0m\u001b[0minfo\u001b[0m\u001b[1;33m(\u001b[0m\u001b[1;33m)\u001b[0m\u001b[1;33m\u001b[0m\u001b[1;33m\u001b[0m\u001b[0m\n\u001b[0m\u001b[0;32m      2\u001b[0m \u001b[1;33m\u001b[0m\u001b[0m\n",
      "\u001b[1;31mNameError\u001b[0m: name 'data1' is not defined"
     ]
    }
   ],
   "source": [
    "\n",
    "data1.info()\n",
    "\n"
   ]
  },
  {
   "cell_type": "markdown",
   "metadata": {},
   "source": [
    "\n",
    "<ul>\n",
    "<li>Rearrange columns and drop foreign key:</li>\n",
    "</ul>\n"
   ]
  },
  {
   "cell_type": "code",
   "execution_count": 73,
   "metadata": {},
   "outputs": [
    {
     "ename": "NameError",
     "evalue": "name 'data1' is not defined",
     "output_type": "error",
     "traceback": [
      "\u001b[1;31m---------------------------------------------------------------------------\u001b[0m",
      "\u001b[1;31mNameError\u001b[0m                                 Traceback (most recent call last)",
      "\u001b[1;32m<ipython-input-73-10c6cba896bf>\u001b[0m in \u001b[0;36m<module>\u001b[1;34m\u001b[0m\n\u001b[1;32m----> 1\u001b[1;33m \u001b[0mcols\u001b[0m \u001b[1;33m=\u001b[0m \u001b[0mdata1\u001b[0m\u001b[1;33m.\u001b[0m\u001b[0mcolumns\u001b[0m\u001b[1;33m.\u001b[0m\u001b[0mtolist\u001b[0m\u001b[1;33m(\u001b[0m\u001b[1;33m)\u001b[0m\u001b[1;33m\u001b[0m\u001b[1;33m\u001b[0m\u001b[0m\n\u001b[0m\u001b[0;32m      2\u001b[0m \u001b[0mcols\u001b[0m\u001b[1;33m\u001b[0m\u001b[1;33m\u001b[0m\u001b[0m\n\u001b[0;32m      3\u001b[0m \u001b[1;33m\u001b[0m\u001b[0m\n",
      "\u001b[1;31mNameError\u001b[0m: name 'data1' is not defined"
     ]
    }
   ],
   "source": [
    "\n",
    "cols = data1.columns.tolist()\n",
    "cols\n",
    "\n"
   ]
  },
  {
   "cell_type": "code",
   "execution_count": 74,
   "metadata": {},
   "outputs": [
    {
     "data": {
      "text/plain": [
       "['PostalCode', 'Borough', 'Neighbourhood', 'Latitude', 'Longitude']"
      ]
     },
     "execution_count": 74,
     "metadata": {},
     "output_type": "execute_result"
    }
   ],
   "source": [
    "\n",
    "new_column_order = ['PostalCode',\n",
    " 'Borough',\n",
    " 'Neighbourhood',\n",
    " 'Latitude',\n",
    " 'Longitude']\n",
    "new_column_order\n",
    "\n"
   ]
  },
  {
   "cell_type": "code",
   "execution_count": 75,
   "metadata": {},
   "outputs": [
    {
     "ename": "NameError",
     "evalue": "name 'data1' is not defined",
     "output_type": "error",
     "traceback": [
      "\u001b[1;31m---------------------------------------------------------------------------\u001b[0m",
      "\u001b[1;31mNameError\u001b[0m                                 Traceback (most recent call last)",
      "\u001b[1;32m<ipython-input-75-f8817be3880f>\u001b[0m in \u001b[0;36m<module>\u001b[1;34m\u001b[0m\n\u001b[1;32m----> 1\u001b[1;33m \u001b[0mdata1\u001b[0m \u001b[1;33m=\u001b[0m \u001b[0mdata1\u001b[0m\u001b[1;33m[\u001b[0m\u001b[0mnew_column_order\u001b[0m\u001b[1;33m]\u001b[0m\u001b[1;33m\u001b[0m\u001b[1;33m\u001b[0m\u001b[0m\n\u001b[0m\u001b[0;32m      2\u001b[0m \u001b[1;31m#data1.head()\u001b[0m\u001b[1;33m\u001b[0m\u001b[1;33m\u001b[0m\u001b[1;33m\u001b[0m\u001b[0m\n\u001b[0;32m      3\u001b[0m \u001b[1;33m\u001b[0m\u001b[0m\n",
      "\u001b[1;31mNameError\u001b[0m: name 'data1' is not defined"
     ]
    }
   ],
   "source": [
    "\n",
    "data1 = data1[new_column_order]\n",
    "#data1.head()\n",
    "\n"
   ]
  },
  {
   "cell_type": "markdown",
   "metadata": {},
   "source": [
    "\n",
    "<ul>\n",
    "<li>Sort dataframe to match example:</li>\n",
    "</ul>\n"
   ]
  },
  {
   "cell_type": "code",
   "execution_count": 76,
   "metadata": {},
   "outputs": [
    {
     "ename": "NameError",
     "evalue": "name 'data1' is not defined",
     "output_type": "error",
     "traceback": [
      "\u001b[1;31m---------------------------------------------------------------------------\u001b[0m",
      "\u001b[1;31mNameError\u001b[0m                                 Traceback (most recent call last)",
      "\u001b[1;32m<ipython-input-76-e56451e4b754>\u001b[0m in \u001b[0;36m<module>\u001b[1;34m\u001b[0m\n\u001b[1;32m----> 1\u001b[1;33m \u001b[0msorted_df\u001b[0m \u001b[1;33m=\u001b[0m \u001b[0mdata1\u001b[0m\u001b[1;33m.\u001b[0m\u001b[0msort_values\u001b[0m\u001b[1;33m(\u001b[0m\u001b[1;33m[\u001b[0m \u001b[1;34m'Neighbourhood'\u001b[0m\u001b[1;33m,\u001b[0m \u001b[1;34m'Latitude'\u001b[0m\u001b[1;33m]\u001b[0m\u001b[1;33m,\u001b[0m \u001b[0mascending\u001b[0m\u001b[1;33m=\u001b[0m\u001b[1;33m[\u001b[0m\u001b[1;32mTrue\u001b[0m\u001b[1;33m,\u001b[0m \u001b[1;32mTrue\u001b[0m\u001b[1;33m]\u001b[0m\u001b[1;33m)\u001b[0m\u001b[1;33m\u001b[0m\u001b[1;33m\u001b[0m\u001b[0m\n\u001b[0m\u001b[0;32m      2\u001b[0m \u001b[1;31m#sorted_df.head()\u001b[0m\u001b[1;33m\u001b[0m\u001b[1;33m\u001b[0m\u001b[1;33m\u001b[0m\u001b[0m\n\u001b[0;32m      3\u001b[0m \u001b[1;31m# no idea how to get it exacly like the exqample :(\u001b[0m\u001b[1;33m\u001b[0m\u001b[1;33m\u001b[0m\u001b[1;33m\u001b[0m\u001b[0m\n\u001b[0;32m      4\u001b[0m \u001b[1;33m\u001b[0m\u001b[0m\n",
      "\u001b[1;31mNameError\u001b[0m: name 'data1' is not defined"
     ]
    }
   ],
   "source": [
    "\n",
    "sorted_df = data1.sort_values([ 'Neighbourhood', 'Latitude'], ascending=[True, True])\n",
    "#sorted_df.head()\n",
    "# no idea how to get it exacly like the exqample :(\n",
    "\n"
   ]
  },
  {
   "cell_type": "code",
   "execution_count": 77,
   "metadata": {},
   "outputs": [
    {
     "ename": "NameError",
     "evalue": "name 'sorted_df' is not defined",
     "output_type": "error",
     "traceback": [
      "\u001b[1;31m---------------------------------------------------------------------------\u001b[0m",
      "\u001b[1;31mNameError\u001b[0m                                 Traceback (most recent call last)",
      "\u001b[1;32m<ipython-input-77-3ee2b466d043>\u001b[0m in \u001b[0;36m<module>\u001b[1;34m\u001b[0m\n\u001b[1;32m----> 1\u001b[1;33m \u001b[0msorted_df\u001b[0m\u001b[1;33m.\u001b[0m\u001b[0mreset_index\u001b[0m\u001b[1;33m(\u001b[0m\u001b[0minplace\u001b[0m\u001b[1;33m=\u001b[0m\u001b[1;32mTrue\u001b[0m\u001b[1;33m)\u001b[0m\u001b[1;33m\u001b[0m\u001b[1;33m\u001b[0m\u001b[0m\n\u001b[0m\u001b[0;32m      2\u001b[0m \u001b[1;31m#sorted_df.head()\u001b[0m\u001b[1;33m\u001b[0m\u001b[1;33m\u001b[0m\u001b[1;33m\u001b[0m\u001b[0m\n\u001b[0;32m      3\u001b[0m \u001b[1;33m\u001b[0m\u001b[0m\n",
      "\u001b[1;31mNameError\u001b[0m: name 'sorted_df' is not defined"
     ]
    }
   ],
   "source": [
    "\n",
    "sorted_df.reset_index(inplace=True)\n",
    "#sorted_df.head()\n",
    "\n"
   ]
  },
  {
   "cell_type": "code",
   "execution_count": null,
   "metadata": {},
   "outputs": [],
   "source": [
    "\n",
    "sorted_cols =sorted_df.columns.tolist()\n",
    "#sorted_cols\n",
    "\n"
   ]
  },
  {
   "cell_type": "code",
   "execution_count": null,
   "metadata": {},
   "outputs": [],
   "source": [
    "\n",
    "new_column_order2 = ['PostalCode',\n",
    " 'Borough',\n",
    " 'Neighbourhood',\n",
    " 'Latitude',\n",
    " 'Longitude']\n",
    "new_column_order2\n",
    "\n"
   ]
  },
  {
   "cell_type": "code",
   "execution_count": null,
   "metadata": {},
   "outputs": [],
   "source": [
    "\n",
    "sorted_dataframe = sorted_df[new_column_order]\n",
    "sorted_dataframe.head()\n",
    "\n"
   ]
  },
  {
   "cell_type": "markdown",
   "metadata": {},
   "source": [
    "\n",
    "<h2 id=\"2.3.-Q2_-notebook-on-Github-repository.-(2-marks)\">2.3. Q2_ notebook on Github repository. (2 marks)<a class=\"anchor-link\" href=\"https://eu-gb.dataplatform.cloud.ibm.com/data/notebooks/converter/assets/8313cc9b-a363-4980-afca-f0c4f43bbc7c?access_token=acfddd202ebf78e84ebbdf02cb21f341bace09392e6c82f3f43c638e1752b564&amp;project=4457a2e1-3686-4058-bec5-8b309caa746d#2.3.-Q2_-notebook-on-Github-repository.-(2-marks)\">В¶</a></h2>\n"
   ]
  },
  {
   "cell_type": "code",
   "execution_count": null,
   "metadata": {},
   "outputs": [],
   "source": [
    "\n",
    "sorted_dataframe.to_csv('sorted_geoloc.csv')\n",
    "\n"
   ]
  },
  {
   "cell_type": "markdown",
   "metadata": {},
   "source": [
    "\n",
    "<h1 id=\"Question-3:\">Question 3:<a class=\"anchor-link\" href=\"https://eu-gb.dataplatform.cloud.ibm.com/data/notebooks/converter/assets/8313cc9b-a363-4980-afca-f0c4f43bbc7c?access_token=acfddd202ebf78e84ebbdf02cb21f341bace09392e6c82f3f43c638e1752b564&amp;project=4457a2e1-3686-4058-bec5-8b309caa746d#Question-3:\">В¶</a></h1><h2 id=\"3.1.-Build-a-test-set-with-boroughs-in-Toronto\">3.1. Build a test set with boroughs in Toronto<a class=\"anchor-link\" href=\"https://eu-gb.dataplatform.cloud.ibm.com/data/notebooks/converter/assets/8313cc9b-a363-4980-afca-f0c4f43bbc7c?access_token=acfddd202ebf78e84ebbdf02cb21f341bace09392e6c82f3f43c638e1752b564&amp;project=4457a2e1-3686-4058-bec5-8b309caa746d#3.1.-Build-a-test-set-with-boroughs-in-Toronto\">В¶</a></h2>\n"
   ]
  },
  {
   "cell_type": "markdown",
   "metadata": {},
   "source": [
    "\n",
    "<p>Import dependencies that we will need.</p>\n"
   ]
  },
  {
   "cell_type": "code",
   "execution_count": null,
   "metadata": {},
   "outputs": [],
   "source": [
    "\n",
    "import numpy as np # library to handle data in a vectorized manner\n",
    "\n",
    "import pandas as pd # library for data analsysis\n",
    "pd.set_option('display.max_columns', None)\n",
    "pd.set_option('display.max_rows', None)\n",
    "\n",
    "import json # library to handle JSON files\n",
    "\n",
    "#!conda install -c conda-forge geopy --yes # uncomment this line if you haven't completed the Foursquare API lab\n",
    "from geopy.geocoders import Nominatim # convert an address into latitude and longitude values\n",
    "\n",
    "import requests # library to handle requests\n",
    "from pandas.io.json import json_normalize # tranform JSON file into a pandas dataframe\n",
    "\n",
    "# Matplotlib and associated plotting modules\n",
    "import matplotlib.cm as cm\n",
    "import matplotlib.colors as colors\n",
    "\n",
    "# import k-means from clustering stage\n",
    "from sklearn.cluster import KMeans\n",
    "\n",
    "#!conda install -c conda-forge folium=0.5.0 --yes # uncomment this line if you haven't completed the Foursquare API lab\n",
    "import folium # map rendering library\n",
    "\n",
    "print('Libraries imported.')\n",
    "\n"
   ]
  },
  {
   "cell_type": "markdown",
   "metadata": {},
   "source": [
    "\n",
    "<h5 id=\"bonus_loading-data-into-json:\">bonus_loading data into json:<a class=\"anchor-link\" href=\"https://eu-gb.dataplatform.cloud.ibm.com/data/notebooks/converter/assets/8313cc9b-a363-4980-afca-f0c4f43bbc7c?access_token=acfddd202ebf78e84ebbdf02cb21f341bace09392e6c82f3f43c638e1752b564&amp;project=4457a2e1-3686-4058-bec5-8b309caa746d#bonus_loading-data-into-json:\">В¶</a></h5>\n"
   ]
  },
  {
   "cell_type": "code",
   "execution_count": null,
   "metadata": {},
   "outputs": [],
   "source": [
    "\n",
    "# library to handle JSON files\n",
    "\n",
    "import pandas as pd\n",
    "\n",
    "import json\n",
    "\n",
    "sorted_dataframe.to_json(path_or_buf='geo_toronto.json', orient='table')\n",
    "\n"
   ]
  },
  {
   "cell_type": "code",
   "execution_count": null,
   "metadata": {},
   "outputs": [],
   "source": [
    "\n",
    "with open('geo_toronto.json') as json_data:\n",
    "    Toronto_data = json.load(json_data)\n",
    "\n"
   ]
  },
  {
   "cell_type": "code",
   "execution_count": null,
   "metadata": {},
   "outputs": [],
   "source": [
    "\n",
    "#Toronto_data\n",
    "# Data is in the 'data' field   \n",
    "\n"
   ]
  },
  {
   "cell_type": "code",
   "execution_count": null,
   "metadata": {},
   "outputs": [],
   "source": [
    "\n",
    "neighborhoods_data = Toronto_data['data']\n",
    "neighborhoods_data[0]\n",
    "#Let's take a look at the first item in this list.\n",
    "\n"
   ]
  },
  {
   "cell_type": "code",
   "execution_count": null,
   "metadata": {},
   "outputs": [],
   "source": [
    "\n",
    "sorted_dataframe.info()\n",
    "sorted_dataframe.shape\n",
    "\n"
   ]
  },
  {
   "cell_type": "code",
   "execution_count": null,
   "metadata": {},
   "outputs": [],
   "source": [
    "\n",
    "sorted_dataframe.head()\n",
    "\n"
   ]
  },
  {
   "cell_type": "code",
   "execution_count": null,
   "metadata": {},
   "outputs": [],
   "source": [
    "\n",
    "print('The dataframe has {} boroughs and {} neighborhoods.'.format(\n",
    "        len(sorted_dataframe['Borough'].unique()),\n",
    "        sorted_dataframe.shape[0]\n",
    "    )\n",
    ")\n",
    "\n"
   ]
  },
  {
   "cell_type": "markdown",
   "metadata": {},
   "source": [
    "\n",
    "<h4 id=\"How-to-get-coordonates:\">How to get coordonates:<a class=\"anchor-link\" href=\"https://eu-gb.dataplatform.cloud.ibm.com/data/notebooks/converter/assets/8313cc9b-a363-4980-afca-f0c4f43bbc7c?access_token=acfddd202ebf78e84ebbdf02cb21f341bace09392e6c82f3f43c638e1752b564&amp;project=4457a2e1-3686-4058-bec5-8b309caa746d#How-to-get-coordonates:\">В¶</a></h4>\n"
   ]
  },
  {
   "cell_type": "code",
   "execution_count": null,
   "metadata": {},
   "outputs": [],
   "source": [
    "\n",
    "address = 'Adelaide'\n",
    "\n",
    "geolocator = Nominatim()\n",
    "location = geolocator.geocode(address)\n",
    "latitude = location.latitude\n",
    "longitude = location.longitude\n",
    "print('The geograpical coordinate of Adelaide are {}, {}.'.format(latitude, longitude))\n",
    "\n"
   ]
  },
  {
   "cell_type": "markdown",
   "metadata": {},
   "source": [
    "\n",
    "<h4 id=\"How-to-map-with-Folium:\">How to map with Folium:<a class=\"anchor-link\" href=\"https://eu-gb.dataplatform.cloud.ibm.com/data/notebooks/converter/assets/8313cc9b-a363-4980-afca-f0c4f43bbc7c?access_token=acfddd202ebf78e84ebbdf02cb21f341bace09392e6c82f3f43c638e1752b564&amp;project=4457a2e1-3686-4058-bec5-8b309caa746d#How-to-map-with-Folium:\">В¶</a></h4>\n"
   ]
  },
  {
   "cell_type": "code",
   "execution_count": null,
   "metadata": {},
   "outputs": [],
   "source": [
    "\n",
    "!conda install -c conda-forge folium=0.5.0 \n",
    "\n"
   ]
  },
  {
   "cell_type": "markdown",
   "metadata": {},
   "source": [
    "\n",
    "<h2 id=\"Ready-to-generate-maps,-open-them-on-your-browser!\">Ready to generate maps, open them on your browser!<a class=\"anchor-link\" href=\"https://eu-gb.dataplatform.cloud.ibm.com/data/notebooks/converter/assets/8313cc9b-a363-4980-afca-f0c4f43bbc7c?access_token=acfddd202ebf78e84ebbdf02cb21f341bace09392e6c82f3f43c638e1752b564&amp;project=4457a2e1-3686-4058-bec5-8b309caa746d#Ready-to-generate-maps,-open-them-on-your-browser!\">В¶</a></h2><ul>\n",
    "<li>if you cannot generate the maps open PGA<em>map</em>*.html from the zip file</li>\n",
    "</ul>\n"
   ]
  },
  {
   "cell_type": "code",
   "execution_count": null,
   "metadata": {},
   "outputs": [],
   "source": [
    "\n",
    "import pandas as pd\n",
    "import folium\n",
    "\n",
    "print('imported pandas & folium')\n",
    "\n"
   ]
  },
  {
   "cell_type": "markdown",
   "metadata": {},
   "source": [
    "\n",
    "<h3 id=\"Map-generated-with-folium-default-markers:\">Map generated with folium default markers:<a class=\"anchor-link\" href=\"https://eu-gb.dataplatform.cloud.ibm.com/data/notebooks/converter/assets/8313cc9b-a363-4980-afca-f0c4f43bbc7c?access_token=acfddd202ebf78e84ebbdf02cb21f341bace09392e6c82f3f43c638e1752b564&amp;project=4457a2e1-3686-4058-bec5-8b309caa746d#Map-generated-with-folium-default-markers:\">В¶</a></h3>\n"
   ]
  },
  {
   "cell_type": "code",
   "execution_count": null,
   "metadata": {},
   "outputs": [],
   "source": [
    "\n",
    "import pandas as pd\n",
    "import folium\n",
    "\n",
    "#grab a random sample from df\n",
    "subset_of_df = sorted_dataframe.sample(n=11)\n",
    "map_test = folium.Map(location=[subset_of_df['Latitude'].mean(), \n",
    "                                subset_of_df['Longitude'].mean()], \n",
    "                      zoom_start=10)\n",
    "#creating a Marker for each point in df_sample. Each point will get a popup with their zip\n",
    "for row in subset_of_df.itertuples():if you cannot \n",
    "    map_test.add_child(folium.Marker(location=[row.Latitude ,row.Longitude],\n",
    "           popup=row.Borough))\n",
    "\n",
    "    \n",
    "#map_test\n",
    "\n",
    "#open map_test.html in browser\n",
    "map_test.save(\"map_test.html\")\n",
    "\n",
    "# if you cannot generate the maps open PGA_map_*.html from the zip file\n",
    "\n"
   ]
  },
  {
   "cell_type": "markdown",
   "metadata": {},
   "source": [
    "\n",
    "<h3 id=\"Test-on-Borough-data,-map-with-MarkerClusters:\">Test on Borough data, map with MarkerClusters:<a class=\"anchor-link\" href=\"https://eu-gb.dataplatform.cloud.ibm.com/data/notebooks/converter/assets/8313cc9b-a363-4980-afca-f0c4f43bbc7c?access_token=acfddd202ebf78e84ebbdf02cb21f341bace09392e6c82f3f43c638e1752b564&amp;project=4457a2e1-3686-4058-bec5-8b309caa746d#Test-on-Borough-data,-map-with-MarkerClusters:\">В¶</a></h3>\n"
   ]
  },
  {
   "cell_type": "code",
   "execution_count": null,
   "metadata": {},
   "outputs": [],
   "source": [
    "\n",
    "from folium.plugins import MarkerCluster\n",
    "map_borough = folium.Map(location=[subset_of_df['Latitude'].mean(), \n",
    " subset_of_df['Longitude'].mean()], \n",
    " zoom_start=10)\n",
    "mc = MarkerCluster()\n",
    "#creating a Marker for each point in df_sample. Each point will get a popup with their zip\n",
    "for row in subset_of_df.itertuples():\n",
    "    mc.add_child(folium.Marker(location=[row.Latitude,  row.Longitude],\n",
    "                 popup=row.Borough))\n",
    "    map_borough.add_child(mc)\n",
    "\n",
    "\n",
    "#map_borough\n",
    "\n",
    "#open in map_borough.html browser \n",
    "map_borough.save(\"map_borough.html\")\n",
    "\n",
    "#if you cannot generate the maps open PGA_map_*.html from the zip file\n",
    "\n"
   ]
  },
  {
   "cell_type": "markdown",
   "metadata": {},
   "source": [
    "\n",
    "<h2 id=\"3.2.-Replicate-the-same-analysis-with-the-neighborhoods-in-Toronto.\">3.2. Replicate the same analysis with the neighborhoods in Toronto.<a class=\"anchor-link\" href=\"https://eu-gb.dataplatform.cloud.ibm.com/data/notebooks/converter/assets/8313cc9b-a363-4980-afca-f0c4f43bbc7c?access_token=acfddd202ebf78e84ebbdf02cb21f341bace09392e6c82f3f43c638e1752b564&amp;project=4457a2e1-3686-4058-bec5-8b309caa746d#3.2.-Replicate-the-same-analysis-with-the-neighborhoods-in-Toronto.\">В¶</a></h2>\n"
   ]
  },
  {
   "cell_type": "code",
   "execution_count": null,
   "metadata": {},
   "outputs": [],
   "source": [
    "\n",
    "import pandas as pd\n",
    "import folium\n",
    "\n",
    "\n",
    "\n",
    "#grab a random sample from df\n",
    "toronto_n = sorted_dataframe.sample(n=20)\n",
    "map_toronto = folium.Map(location=[toronto_n['Latitude'].mean(), \n",
    "                                toronto_n['Longitude'].mean()], \n",
    "                      zoom_start=10)\n",
    "#creating a Marker for each point in df_sample. Each point will get a popup with their zip\n",
    "for row in toronto_n.itertuples():\n",
    "    map_toronto.add_child(folium.Marker(location=[row.Latitude ,row.Longitude],\n",
    "           popup=row.Neighbourhood))\n",
    "\n",
    "    \n",
    "map_toronto \n",
    "\n",
    "#open map_toronto.html in browser\n",
    "\n",
    "map_toronto.save(\"map_toronto20.html\")\n",
    "\n",
    "#if you cannot generate the maps open PGA_map_*.html from the zip file\n",
    "\n"
   ]
  },
  {
   "cell_type": "markdown",
   "metadata": {},
   "source": [
    "\n",
    "<p>great got 20 neighbourhoods...could not get more :(</p>\n"
   ]
  },
  {
   "cell_type": "markdown",
   "metadata": {},
   "source": [
    "\n",
    "<h2 id=\"3.3-Used-the-Foursquare-API-to-explore-neighborhoods-in-Toronto.\">3.3 Used the Foursquare API to explore neighborhoods in Toronto.<a class=\"anchor-link\" href=\"https://eu-gb.dataplatform.cloud.ibm.com/data/notebooks/converter/assets/8313cc9b-a363-4980-afca-f0c4f43bbc7c?access_token=acfddd202ebf78e84ebbdf02cb21f341bace09392e6c82f3f43c638e1752b564&amp;project=4457a2e1-3686-4058-bec5-8b309caa746d#3.3-Used-the-Foursquare-API-to-explore-neighborhoods-in-Toronto.\">В¶</a></h2>\n"
   ]
  },
  {
   "cell_type": "markdown",
   "metadata": {},
   "source": [
    "\n",
    "<p>-let's check the dataframe...</p>\n"
   ]
  },
  {
   "cell_type": "code",
   "execution_count": null,
   "metadata": {},
   "outputs": [],
   "source": [
    "\n",
    "sorted_dataframe.head()\n",
    "\n"
   ]
  },
  {
   "cell_type": "code",
   "execution_count": null,
   "metadata": {},
   "outputs": [],
   "source": [
    "\n",
    "sorted_dataframe.info()\n",
    "\n"
   ]
  },
  {
   "cell_type": "code",
   "execution_count": null,
   "metadata": {},
   "outputs": [],
   "source": [
    "\n",
    "print('The dataframe has {} boroughs and {} neighborhoods.'.format(\n",
    "        len(sorted_dataframe['Borough'].unique()),\n",
    "        sorted_dataframe.shape[0]\n",
    "    )\n",
    ")\n",
    "\n"
   ]
  },
  {
   "cell_type": "markdown",
   "metadata": {},
   "source": [
    "\n",
    "<p>Use geopy library to get the latitude and longitude values of Toronto.</p>\n",
    "<p>-In order to define an instance of the geocoder, leave out user_agent.</p>\n"
   ]
  },
  {
   "cell_type": "code",
   "execution_count": null,
   "metadata": {},
   "outputs": [],
   "source": [
    "\n",
    "address = 'Toronto, CA'\n",
    "\n",
    "geolocator = Nominatim()\n",
    "location = geolocator.geocode(address)\n",
    "latitude = location.latitude\n",
    "longitude = location.longitude\n",
    "print('The geograpical coordinate of Toronto are {}, {}.'.format(latitude, longitude))\n",
    "\n"
   ]
  },
  {
   "cell_type": "markdown",
   "metadata": {},
   "source": [
    "\n",
    "<h2 id=\"Create-a-map-of-Toronto\">Create a map of Toronto<a class=\"anchor-link\" href=\"https://eu-gb.dataplatform.cloud.ibm.com/data/notebooks/converter/assets/8313cc9b-a363-4980-afca-f0c4f43bbc7c?access_token=acfddd202ebf78e84ebbdf02cb21f341bace09392e6c82f3f43c638e1752b564&amp;project=4457a2e1-3686-4058-bec5-8b309caa746d#Create-a-map-of-Toronto\">В¶</a></h2><ul>\n",
    "<li><p>with its neighborhoods superimposed on top.</p>\n",
    "</li>\n",
    "<li><p>if you cannot replicate the lab open PGA<em>map</em>*.html from the zip file</p>\n",
    "</li>\n",
    "</ul>\n"
   ]
  },
  {
   "cell_type": "code",
   "execution_count": null,
   "metadata": {},
   "outputs": [],
   "source": [
    "\n",
    "# create map of Toronto using latitude and longitude values\n",
    "map_toronto_neighbourhoods = folium.Map(location=[latitude, longitude], zoom_start=10)\n",
    "\n",
    "# add markers to map\n",
    "for lat, lng, borough, neighbourhood in zip(sorted_dataframe['Latitude'], sorted_dataframe['Longitude'], sorted_dataframe['Borough'], sorted_dataframe['Neighbourhood']):\n",
    "    label = '{}, {}'.format(neighbourhood, borough)\n",
    "    label = folium.Popup(label, parse_html=True)\n",
    "    folium.CircleMarker(\n",
    "        [lat, lng],\n",
    "        radius=2,\n",
    "        popup=label,\n",
    "        color='blue',\n",
    "        fill=True,\n",
    "        fill_color='#3186cc',\n",
    "        fill_opacity=0.7,\n",
    "        parse_html=False).add_to(map_toronto_neighbourhoods)  \n",
    "    \n",
    "map_toronto_neighbourhoods\n",
    "\n",
    "map_toronto_neighbourhoods.save(\"map_toronto_neighbourhoods.html\")\n",
    "\n",
    "#open map_toronto_neighbourhoods.html in browser\n",
    "#if you cannot generate the maps open PGA_map_*.html from the zip file\n",
    "\n"
   ]
  },
  {
   "cell_type": "markdown",
   "metadata": {},
   "source": [
    "\n",
    "<p>To kick off, let's focus on just one borough_...'York' for example:</p>\n"
   ]
  },
  {
   "cell_type": "code",
   "execution_count": null,
   "metadata": {},
   "outputs": [],
   "source": [
    "\n",
    "address = 'York, Toronto'\n",
    "\n",
    "geolocator = Nominatim()\n",
    "location = geolocator.geocode(address)\n",
    "latitude = location.latitude\n",
    "longitude = location.longitude\n",
    "print('The geograpical coordinates of York, Toronto are {}, {}.'.format(latitude, longitude))\n",
    "\n"
   ]
  },
  {
   "cell_type": "markdown",
   "metadata": {},
   "source": [
    "\n",
    "<p>Lets repeat as above, but for York, Toronto only:</p>\n"
   ]
  },
  {
   "cell_type": "code",
   "execution_count": null,
   "metadata": {},
   "outputs": [],
   "source": [
    "\n",
    "york_data = sorted_dataframe[sorted_dataframe['Borough'] == 'York'].reset_index(drop=True)\n",
    "york_data\n",
    "\n"
   ]
  },
  {
   "cell_type": "code",
   "execution_count": null,
   "metadata": {},
   "outputs": [],
   "source": [
    "\n",
    "york_data.info()\n",
    "\n"
   ]
  },
  {
   "cell_type": "code",
   "execution_count": null,
   "metadata": {},
   "outputs": [],
   "source": [
    "\n",
    "# create map of Manhattan using latitude and longitude values\n",
    "map_york_toronto = folium.Map(location=[latitude, longitude], zoom_start=11)\n",
    "\n",
    "# add markers to map\n",
    "for lat, lng, label in zip(york_data['Latitude'], york_data['Longitude'], york_data['Neighbourhood']):\n",
    "    label = folium.Popup(label, parse_html=True)\n",
    "    folium.CircleMarker(\n",
    "        [lat, lng],\n",
    "        radius=5,\n",
    "        popup=label,\n",
    "        color='blue',\n",
    "        fill=True,\n",
    "        fill_color='#3186cc',\n",
    "        fill_opacity=0.7,\n",
    "        parse_html=False).add_to(map_york_toronto)  \n",
    "    \n",
    "map_york_toronto\n",
    "\n",
    "map_york_toronto.save(\"map_york_toronto.html\")\n",
    "\n",
    "#open map_york_toronto.html in browser\n",
    "#if you cannot generate the maps open PGA_map_*.html from the zip file\n",
    "\n"
   ]
  },
  {
   "cell_type": "markdown",
   "metadata": {},
   "source": [
    "\n",
    "<h3 id=\"Foursquare:\">Foursquare:<a class=\"anchor-link\" href=\"https://eu-gb.dataplatform.cloud.ibm.com/data/notebooks/converter/assets/8313cc9b-a363-4980-afca-f0c4f43bbc7c?access_token=acfddd202ebf78e84ebbdf02cb21f341bace09392e6c82f3f43c638e1752b564&amp;project=4457a2e1-3686-4058-bec5-8b309caa746d#Foursquare:\">В¶</a></h3>\n"
   ]
  },
  {
   "cell_type": "markdown",
   "metadata": {},
   "source": [
    "\n",
    "<h3 id=\"@hidden_cell\">@hidden_cell<a class=\"anchor-link\" href=\"https://eu-gb.dataplatform.cloud.ibm.com/data/notebooks/converter/assets/8313cc9b-a363-4980-afca-f0c4f43bbc7c?access_token=acfddd202ebf78e84ebbdf02cb21f341bace09392e6c82f3f43c638e1752b564&amp;project=4457a2e1-3686-4058-bec5-8b309caa746d#@hidden_cell\">В¶</a></h3><p>-<a href=\"https://dataplatform.cloud.ibm.com/docs/content/wsj/analyze-data/hide_code.html\">https://dataplatform.cloud.ibm.com/docs/content/wsj/analyze-data/hide_code.html</a></p>\n"
   ]
  },
  {
   "cell_type": "markdown",
   "metadata": {},
   "source": [
    "\n",
    "<h3 id=\"Enter-your-Foursquare-credentials:\">Enter your Foursquare credentials:<a class=\"anchor-link\" href=\"https://eu-gb.dataplatform.cloud.ibm.com/data/notebooks/converter/assets/8313cc9b-a363-4980-afca-f0c4f43bbc7c?access_token=acfddd202ebf78e84ebbdf02cb21f341bace09392e6c82f3f43c638e1752b564&amp;project=4457a2e1-3686-4058-bec5-8b309caa746d#Enter-your-Foursquare-credentials:\">В¶</a></h3><ul>\n",
    "<li><p>CLIENT_ID = 'cif' # your Foursquare ID</p>\n",
    "</li>\n",
    "<li><p>CLIENT_SECRET = 'csf' # your Foursquare Secret</p>\n",
    "</li>\n",
    "<li><p>VERSION = 'ymd' # Foursquare API version</p>\n",
    "</li>\n",
    "<li><p>print('My credentails: ***')</p>\n",
    "</li>\n",
    "<li>print('CLIENT_ID: ' + CLIENT_ID)</li>\n",
    "<li>print('CLIENT_SECRET:' + CLIENT_SECRET)</li>\n",
    "</ul>\n"
   ]
  },
  {
   "cell_type": "code",
   "execution_count": null,
   "metadata": {},
   "outputs": [],
   "source": [
    "\n",
    "# The code was removed by Watson Studio for sharing.\n",
    "\n"
   ]
  },
  {
   "cell_type": "markdown",
   "metadata": {},
   "source": [
    "\n",
    "<h3 id=\"Let's-explore-the-first-neighborhood-in-our-dataframe.\">Let's explore the first neighborhood in our dataframe.<a class=\"anchor-link\" href=\"https://eu-gb.dataplatform.cloud.ibm.com/data/notebooks/converter/assets/8313cc9b-a363-4980-afca-f0c4f43bbc7c?access_token=acfddd202ebf78e84ebbdf02cb21f341bace09392e6c82f3f43c638e1752b564&amp;project=4457a2e1-3686-4058-bec5-8b309caa746d#Let's-explore-the-first-neighborhood-in-our-dataframe.\">В¶</a></h3><ul>\n",
    "<li>Get the neighborhood's name.</li>\n",
    "</ul>\n"
   ]
  },
  {
   "cell_type": "code",
   "execution_count": null,
   "metadata": {},
   "outputs": [],
   "source": [
    "\n",
    "york_data.info()\n",
    "\n"
   ]
  },
  {
   "cell_type": "code",
   "execution_count": null,
   "metadata": {},
   "outputs": [],
   "source": [
    "\n",
    "neighbourhood_latitude = york_data.loc[0, 'Latitude'] # neighborhood latitude value\n",
    "neighbourhood_longitude = york_data.loc[0, 'Longitude'] # neighborhood longitude value\n",
    "\n",
    "neighbourhood_name = york_data.loc[0, 'Neighbourhood'] # neighborhood name\n",
    "\n",
    "print('Latitude and longitude values of {} are {}, {}.'.format(neighbourhood_name, \n",
    "                                                               neighbourhood_latitude, \n",
    "                                                               neighbourhood_longitude))\n",
    "\n"
   ]
  },
  {
   "cell_type": "markdown",
   "metadata": {},
   "source": [
    "\n",
    "<h3 id=\"Now,-let's-get-the-top-100-venues-that-are-in-Caledonia-Fairbanks-within-a-radius-of-500-meters.\">Now, let's get the top 100 venues that are in Caledonia-Fairbanks within a radius of 500 meters.<a class=\"anchor-link\" href=\"https://eu-gb.dataplatform.cloud.ibm.com/data/notebooks/converter/assets/8313cc9b-a363-4980-afca-f0c4f43bbc7c?access_token=acfddd202ebf78e84ebbdf02cb21f341bace09392e6c82f3f43c638e1752b564&amp;project=4457a2e1-3686-4058-bec5-8b309caa746d#Now,-let's-get-the-top-100-venues-that-are-in-Caledonia-Fairbanks-within-a-radius-of-500-meters.\">В¶</a></h3><ul>\n",
    "<li>First, let's create the GET request URL. Name your URL url.</li>\n",
    "</ul>\n"
   ]
  },
  {
   "cell_type": "code",
   "execution_count": null,
   "metadata": {},
   "outputs": [],
   "source": [
    "\n",
    "# The code was removed by Watson Studio for sharing.\n",
    "\n"
   ]
  },
  {
   "cell_type": "markdown",
   "metadata": {},
   "source": [
    "\n",
    "<h3 id=\"your-code-should-look-like-this:\">your code should look like this:<a class=\"anchor-link\" href=\"https://eu-gb.dataplatform.cloud.ibm.com/data/notebooks/converter/assets/8313cc9b-a363-4980-afca-f0c4f43bbc7c?access_token=acfddd202ebf78e84ebbdf02cb21f341bace09392e6c82f3f43c638e1752b564&amp;project=4457a2e1-3686-4058-bec5-8b309caa746d#your-code-should-look-like-this:\">В¶</a></h3><p>LIMIT = 100</p>\n",
    "<p>radius = 500</p>\n",
    "<p>url = '<a href=\"https://api.foursquare.com/v2/venues/explore?&amp;client_id={}&amp;client_secret={}&amp;v={}&amp;ll={},{}&amp;radius={}&amp;limit={}%27.format(\">https://api.foursquare.com/v2/venues/explore?&amp;client_id={}&amp;client_secret={}&amp;v={}&amp;ll={},{}&amp;radius={}&amp;limit={}'.format(</a></p>\n",
    "<pre><code>CLIENT_ID, \n",
    "\n",
    "CLIENT_SECRET, \n",
    "\n",
    "VERSION, \n",
    "\n",
    "neighbourhood_latitude, \n",
    "\n",
    "neighbourhood_longitude, \n",
    "\n",
    "radius, \n",
    "\n",
    "LIMIT)\n",
    "\n",
    "</code></pre>\n",
    "<p>url</p>\n"
   ]
  },
  {
   "cell_type": "code",
   "execution_count": null,
   "metadata": {},
   "outputs": [],
   "source": [
    "\n",
    "york_results = requests.get(url).json()\n",
    "#york_results\n",
    "\n"
   ]
  },
  {
   "cell_type": "markdown",
   "metadata": {},
   "source": [
    "\n",
    "<h2 id=\"3.4.-Get-the-most-common-venue-categories-in-each-neighborhood\">3.4. Get the most common venue categories in each neighborhood<a class=\"anchor-link\" href=\"https://eu-gb.dataplatform.cloud.ibm.com/data/notebooks/converter/assets/8313cc9b-a363-4980-afca-f0c4f43bbc7c?access_token=acfddd202ebf78e84ebbdf02cb21f341bace09392e6c82f3f43c638e1752b564&amp;project=4457a2e1-3686-4058-bec5-8b309caa746d#3.4.-Get-the-most-common-venue-categories-in-each-neighborhood\">В¶</a></h2><ul>\n",
    "<li>use get_category_type function from the Foursquare lab</li>\n",
    "</ul>\n"
   ]
  },
  {
   "cell_type": "code",
   "execution_count": null,
   "metadata": {},
   "outputs": [],
   "source": [
    "\n",
    "# function that extracts the category of the venue\n",
    "def get_category_type(row):\n",
    "    try:\n",
    "        categories_list = row['categories']\n",
    "    except:\n",
    "        categories_list = row['venue.categories']\n",
    "        \n",
    "    if len(categories_list) == 0:\n",
    "        return None\n",
    "    else:\n",
    "        return categories_list[0]['name']\n",
    "\n"
   ]
  },
  {
   "cell_type": "code",
   "execution_count": null,
   "metadata": {},
   "outputs": [],
   "source": [
    "\n",
    "york_venues = york_results['response']['groups'][0]['items']\n",
    "    \n",
    "york_nearby_venues = json_normalize(york_venues) # flatten JSON\n",
    "\n",
    "# filter columns\n",
    "york_filtered_columns = ['venue.name', 'venue.categories', 'venue.location.lat', 'venue.location.lng']\n",
    "york_nearby_venues = york_nearby_venues.loc[:, york_filtered_columns]\n",
    "\n",
    "# filter the category for each row\n",
    "york_nearby_venues['venue.categories'] = york_nearby_venues.apply(get_category_type, axis=1)\n",
    "\n",
    "# clean columns\n",
    "york_nearby_venues.columns = [col.split(\".\")[-1] for col in york_nearby_venues.columns]\n",
    "\n",
    "york_nearby_venues.head()\n",
    "\n"
   ]
  },
  {
   "cell_type": "code",
   "execution_count": null,
   "metadata": {},
   "outputs": [],
   "source": [
    "\n",
    "york_nearby_venues.info()\n",
    "\n"
   ]
  },
  {
   "cell_type": "code",
   "execution_count": null,
   "metadata": {},
   "outputs": [],
   "source": [
    "\n",
    "print('{} venues were returned by Foursquare.'.format(york_nearby_venues.shape[0]))\n",
    "\n"
   ]
  },
  {
   "cell_type": "markdown",
   "metadata": {},
   "source": [
    "\n",
    "<h2 id=\"Explore-Neighborhoods-in-York:\">Explore Neighborhoods in York:<a class=\"anchor-link\" href=\"https://eu-gb.dataplatform.cloud.ibm.com/data/notebooks/converter/assets/8313cc9b-a363-4980-afca-f0c4f43bbc7c?access_token=acfddd202ebf78e84ebbdf02cb21f341bace09392e6c82f3f43c638e1752b564&amp;project=4457a2e1-3686-4058-bec5-8b309caa746d#Explore-Neighborhoods-in-York:\">В¶</a></h2><ul>\n",
    "<li>Let's create a function to repeat the same process to all the neighborhoods in York</li>\n",
    "</ul>\n"
   ]
  },
  {
   "cell_type": "code",
   "execution_count": null,
   "metadata": {},
   "outputs": [],
   "source": [
    "\n",
    "def getNearbyVenues(names, latitudes, longitudes, radius=500):\n",
    "    \n",
    "    venues_list=[]\n",
    "    for name, lat, lng in zip(names, latitudes, longitudes):\n",
    "        print(name)\n",
    "            \n",
    "        # create the API request URL\n",
    "        url = 'https://api.foursquare.com/v2/venues/explore?&client_id={}&client_secret={}&v={}&ll={},{}&radius={}&limit={}'.format(\n",
    "            CLIENT_ID, \n",
    "            CLIENT_SECRET, \n",
    "            VERSION, \n",
    "            lat, \n",
    "            lng, \n",
    "            radius, \n",
    "            LIMIT)\n",
    "            \n",
    "        # make the GET request\n",
    "        results = requests.get(url).json()[\"response\"]['groups'][0]['items']\n",
    "        \n",
    "        # return only relevant information for each nearby venue\n",
    "        venues_list.append([(\n",
    "            name, \n",
    "            lat, \n",
    "            lng, \n",
    "            v['venue']['name'], \n",
    "            v['venue']['location']['lat'], \n",
    "            v['venue']['location']['lng'],  \n",
    "            v['venue']['categories'][0]['name']) for v in results])\n",
    "\n",
    "    nearby_venues = pd.DataFrame([item for venue_list in venues_list for item in venue_list])\n",
    "    nearby_venues.columns = ['Neighbourhood', \n",
    "                  'Neighbourhood Latitude', \n",
    "                  'Neighbourhood Longitude', \n",
    "                  'Venue', \n",
    "                  'Venue Latitude', \n",
    "                  'Venue Longitude', \n",
    "                  'Venue Category']\n",
    "    \n",
    "    return(nearby_venues)\n",
    "\n"
   ]
  },
  {
   "cell_type": "code",
   "execution_count": null,
   "metadata": {},
   "outputs": [],
   "source": [
    "\n",
    "york_venues = getNearbyVenues(names=york_data['Neighbourhood'],\n",
    "                                   latitudes=york_data['Latitude'],\n",
    "                                   longitudes=york_data['Longitude']\n",
    "                                  )\n",
    "\n"
   ]
  },
  {
   "cell_type": "code",
   "execution_count": null,
   "metadata": {},
   "outputs": [],
   "source": [
    "\n",
    "york_venues.head()\n",
    "\n"
   ]
  },
  {
   "cell_type": "code",
   "execution_count": null,
   "metadata": {},
   "outputs": [],
   "source": [
    "\n",
    "york_venues.info()\n",
    "\n"
   ]
  },
  {
   "cell_type": "markdown",
   "metadata": {},
   "source": [
    "\n",
    "<p>Let's see how many venues were returned for each neighborhood:</p>\n"
   ]
  },
  {
   "cell_type": "code",
   "execution_count": null,
   "metadata": {},
   "outputs": [],
   "source": [
    "\n",
    "york_venues.groupby('Neighbourhood').count()\n",
    "\n"
   ]
  },
  {
   "cell_type": "markdown",
   "metadata": {},
   "source": [
    "\n",
    "<p>Now let's see how many types of venues there are in York:</p>\n"
   ]
  },
  {
   "cell_type": "code",
   "execution_count": null,
   "metadata": {},
   "outputs": [],
   "source": [
    "\n",
    "print('There are {} uniques categories.'.format(len(york_venues['Venue Category'].unique())))\n",
    "\n"
   ]
  },
  {
   "cell_type": "markdown",
   "metadata": {},
   "source": [
    "\n",
    "<h2 id=\"3.5.-Used-these-features-to-group-the-neighborhoods-into-clusters\">3.5. Used these features to group the neighborhoods into clusters<a class=\"anchor-link\" href=\"https://eu-gb.dataplatform.cloud.ibm.com/data/notebooks/converter/assets/8313cc9b-a363-4980-afca-f0c4f43bbc7c?access_token=acfddd202ebf78e84ebbdf02cb21f341bace09392e6c82f3f43c638e1752b564&amp;project=4457a2e1-3686-4058-bec5-8b309caa746d#3.5.-Used-these-features-to-group-the-neighborhoods-into-clusters\">В¶</a></h2><ul>\n",
    "<li>use one hot coding to analyse each of the neighbourhoods in York, Torono:</li>\n",
    "</ul>\n"
   ]
  },
  {
   "cell_type": "code",
   "execution_count": null,
   "metadata": {},
   "outputs": [],
   "source": [
    "\n",
    "# one hot encoding\n",
    "york_onehot = pd.get_dummies(york_venues[['Venue Category']], prefix=\"\", prefix_sep=\"\")\n",
    "\n",
    "# add neighborhood column back to dataframe\n",
    "york_onehot['Neighbourhood'] = york_venues['Neighbourhood'] \n",
    "\n",
    "# move neighborhood column to the first column\n",
    "york_fixed_columns = [york_onehot.columns[-1]] + list(york_onehot.columns[:-1])\n",
    "york_onehot = york_onehot[york_fixed_columns]\n",
    "\n",
    "york_onehot.head()\n",
    "\n"
   ]
  },
  {
   "cell_type": "code",
   "execution_count": null,
   "metadata": {},
   "outputs": [],
   "source": [
    "\n",
    "york_onehot.info()\n",
    "\n"
   ]
  },
  {
   "cell_type": "markdown",
   "metadata": {},
   "source": [
    "\n",
    "<p>Let's group by neighbourhoods:</p>\n"
   ]
  },
  {
   "cell_type": "code",
   "execution_count": null,
   "metadata": {},
   "outputs": [],
   "source": [
    "\n",
    "york_grouped = york_onehot.groupby('Neighbourhood').mean().reset_index()\n",
    "york_grouped.head()\n",
    "\n"
   ]
  },
  {
   "cell_type": "code",
   "execution_count": null,
   "metadata": {},
   "outputs": [],
   "source": [
    "\n",
    "york_grouped.info()\n",
    "\n"
   ]
  },
  {
   "cell_type": "markdown",
   "metadata": {},
   "source": [
    "\n",
    "<p>Let's find the top venues:</p>\n"
   ]
  },
  {
   "cell_type": "code",
   "execution_count": null,
   "metadata": {},
   "outputs": [],
   "source": [
    "\n",
    "num_top_venues = 3\n",
    "\n",
    "for hood in york_grouped['Neighbourhood']:\n",
    "    print(\"----\"+hood+\"----\")\n",
    "    york_temp = york_grouped[york_grouped['Neighbourhood'] == hood].T.reset_index()\n",
    "    york_temp.columns = ['venue','freq']\n",
    "    york_temp = york_temp.iloc[1:]\n",
    "    york_temp['freq'] = york_temp['freq'].astype(float)\n",
    "    york_temp = york_temp.round({'freq': 2})\n",
    "    print(york_temp.sort_values('freq', ascending=False).reset_index(drop=True).head(num_top_venues))\n",
    "    print('\\n')\n",
    "\n"
   ]
  },
  {
   "cell_type": "markdown",
   "metadata": {},
   "source": [
    "\n",
    "<h3 id=\"Let's-put-that-into-a-pandas-dataframe\">Let's put that into a pandas dataframe<a class=\"anchor-link\" href=\"https://eu-gb.dataplatform.cloud.ibm.com/data/notebooks/converter/assets/8313cc9b-a363-4980-afca-f0c4f43bbc7c?access_token=acfddd202ebf78e84ebbdf02cb21f341bace09392e6c82f3f43c638e1752b564&amp;project=4457a2e1-3686-4058-bec5-8b309caa746d#Let's-put-that-into-a-pandas-dataframe\">В¶</a></h3><ul>\n",
    "<li>write a function to sort the venues in descending order.</li>\n",
    "</ul>\n"
   ]
  },
  {
   "cell_type": "code",
   "execution_count": null,
   "metadata": {},
   "outputs": [],
   "source": [
    "\n",
    "def return_most_common_venues(row, num_top_venues):\n",
    "    row_categories = row.iloc[1:]\n",
    "    row_categories_sorted = row_categories.sort_values(ascending=False)\n",
    "    \n",
    "    return row_categories_sorted.index.values[0:num_top_venues]\n",
    "\n"
   ]
  },
  {
   "cell_type": "markdown",
   "metadata": {},
   "source": [
    "\n",
    "<ul>\n",
    "<li>Now let's create the new dataframe and display the top 7 venues for each neighborhood.</li>\n",
    "</ul>\n"
   ]
  },
  {
   "cell_type": "code",
   "execution_count": null,
   "metadata": {},
   "outputs": [],
   "source": [
    "\n",
    "num_top_venues = 17\n",
    "\n",
    "indicators = ['st', 'nd', 'rd']\n",
    "\n",
    "# create columns according to number of top venues\n",
    "columns = ['Neighbourhood']\n",
    "for ind in np.arange(num_top_venues):\n",
    "    try:\n",
    "        columns.append('{}{} Most Common Venue'.format(ind+1, indicators[ind]))\n",
    "    except:\n",
    "        columns.append('{}th Most Common Venue'.format(ind+1))\n",
    "\n",
    "# create a new dataframe\n",
    "york_neighbourhoods_venues_sorted = pd.DataFrame(columns=columns)\n",
    "\n",
    "york_neighbourhoods_venues_sorted\n",
    "\n"
   ]
  },
  {
   "cell_type": "code",
   "execution_count": null,
   "metadata": {},
   "outputs": [],
   "source": [
    "\n",
    "york_neighbourhoods_venues_sorted['Neighbourhood'] = york_grouped['Neighbourhood']\n",
    "\n",
    "york_neighbourhoods_venues_sorted.head(2)\n",
    "\n"
   ]
  },
  {
   "cell_type": "code",
   "execution_count": null,
   "metadata": {},
   "outputs": [],
   "source": [
    "\n",
    "for ind in np.arange(york_grouped.shape[0]):\n",
    "    york_neighbourhoods_venues_sorted.iloc[ind, 1:] = return_most_common_venues(york_grouped.iloc[ind, :], num_top_venues)\n",
    "\n",
    "york_neighbourhoods_venues_sorted.head(2)\n",
    "\n"
   ]
  },
  {
   "cell_type": "markdown",
   "metadata": {},
   "source": [
    "\n",
    "<h2 id=\"3.4.-Used-the-Folium-library-to-generated-maps-to-visualize-neighborhoods-on-and-how-they-cluster-together.\">3.4. Used the Folium library to generated maps to visualize neighborhoods on and how they cluster together.<a class=\"anchor-link\" href=\"https://eu-gb.dataplatform.cloud.ibm.com/data/notebooks/converter/assets/8313cc9b-a363-4980-afca-f0c4f43bbc7c?access_token=acfddd202ebf78e84ebbdf02cb21f341bace09392e6c82f3f43c638e1752b564&amp;project=4457a2e1-3686-4058-bec5-8b309caa746d#3.4.-Used-the-Folium-library-to-generated-maps-to-visualize-neighborhoods-on-and-how-they-cluster-together.\">В¶</a></h2><h3 id=\"Run-k-means-to-cluster-the-neighborhood-into-2-clusters.\">Run k-means to cluster the neighborhood into 2 clusters.<a class=\"anchor-link\" href=\"https://eu-gb.dataplatform.cloud.ibm.com/data/notebooks/converter/assets/8313cc9b-a363-4980-afca-f0c4f43bbc7c?access_token=acfddd202ebf78e84ebbdf02cb21f341bace09392e6c82f3f43c638e1752b564&amp;project=4457a2e1-3686-4058-bec5-8b309caa746d#Run-k-means-to-cluster-the-neighborhood-into-2-clusters.\">В¶</a></h3>\n"
   ]
  },
  {
   "cell_type": "code",
   "execution_count": null,
   "metadata": {},
   "outputs": [],
   "source": [
    "\n",
    "# set number of clusters\n",
    "kclusters = 2\n",
    "\n",
    "york_grouped_clustering = york_grouped.drop('Neighbourhood', 1)\n",
    "\n",
    "# run k-means clustering\n",
    "york_kmeans = KMeans(n_clusters=kclusters, random_state=0).fit(york_grouped_clustering)\n",
    "\n",
    "# check cluster labels generated for each row in the dataframe\n",
    "york_kmeans.labels_[0:5] \n",
    "\n"
   ]
  },
  {
   "cell_type": "markdown",
   "metadata": {},
   "source": [
    "\n",
    "<p>now lets merge the clusters &amp; sorted venue table:</p>\n"
   ]
  },
  {
   "cell_type": "code",
   "execution_count": null,
   "metadata": {},
   "outputs": [],
   "source": [
    "\n",
    "# add clustering labels\n",
    "york_neighbourhoods_venues_sorted.insert(0, 'Cluster Labels', york_kmeans.labels_)\n",
    "\n",
    "york_merged = york_data\n",
    "\n",
    "# merge toronto_grouped with toronto_data to add latitude/longitude for each neighborhood\n",
    "york_merged = york_merged.join(york_neighbourhoods_venues_sorted.set_index('Neighbourhood'), on='Neighbourhood')\n",
    "\n",
    "york_merged\n",
    "\n"
   ]
  },
  {
   "cell_type": "markdown",
   "metadata": {},
   "source": [
    "\n",
    "<h3 id=\"Generate-maps-to-visualize-your-neighborhoods-and-how-they-cluster-together.\">Generate maps to visualize your neighborhoods and how they cluster together.<a class=\"anchor-link\" href=\"https://eu-gb.dataplatform.cloud.ibm.com/data/notebooks/converter/assets/8313cc9b-a363-4980-afca-f0c4f43bbc7c?access_token=acfddd202ebf78e84ebbdf02cb21f341bace09392e6c82f3f43c638e1752b564&amp;project=4457a2e1-3686-4058-bec5-8b309caa746d#Generate-maps-to-visualize-your-neighborhoods-and-how-they-cluster-together.\">В¶</a></h3>\n"
   ]
  },
  {
   "cell_type": "code",
   "execution_count": null,
   "metadata": {},
   "outputs": [],
   "source": [
    "\n",
    "# create map\n",
    "york_map_clusters = folium.Map(location=[latitude, longitude], zoom_start=11)\n",
    "\n",
    "# set color scheme for the clusters\n",
    "x = np.arange(kclusters)\n",
    "ys = [i + x + (i*x)**2 for i in range(kclusters)]\n",
    "colors_array = cm.rainbow(np.linspace(0, 1, len(ys)))\n",
    "rainbow = [colors.rgb2hex(i) for i in colors_array]\n",
    "\n",
    "# add markers to the map\n",
    "markers_colors = []\n",
    "for lat, lon, poi, cluster in zip(york_merged['Latitude'], york_merged['Longitude'], york_merged['Neighbourhood'], york_merged['Cluster Labels']):\n",
    "    label = folium.Popup(str(poi) + ' Cluster ' + str(cluster), parse_html=True)\n",
    "    folium.CircleMarker(\n",
    "        [lat, lon],\n",
    "        radius=5,\n",
    "        popup=label,\n",
    "        color=rainbow[cluster-1],\n",
    "        fill=True,\n",
    "        fill_color=rainbow[cluster-1],\n",
    "        fill_opacity=0.7).add_to(york_map_clusters)\n",
    "       \n",
    "york_map_clusters\n",
    "\n",
    "york_map_clusters.save(\"york_map_clusters.html\")\n",
    "\n",
    "#open york_map_clusters.html in browser\n",
    "#if you cannot generate the maps open PGA_map_*.html from the zip file\n",
    "\n"
   ]
  },
  {
   "cell_type": "markdown",
   "metadata": {},
   "source": [
    "\n",
    "<h3 id=\"Examine-Clusters\">Examine Clusters<a class=\"anchor-link\" href=\"https://eu-gb.dataplatform.cloud.ibm.com/data/notebooks/converter/assets/8313cc9b-a363-4980-afca-f0c4f43bbc7c?access_token=acfddd202ebf78e84ebbdf02cb21f341bace09392e6c82f3f43c638e1752b564&amp;project=4457a2e1-3686-4058-bec5-8b309caa746d#Examine-Clusters\">В¶</a></h3><ul>\n",
    "<li>examen &amp; determine the discriminating venue categories that distinguish each cluster. </li>\n",
    "</ul>\n"
   ]
  },
  {
   "cell_type": "markdown",
   "metadata": {},
   "source": [
    "\n",
    "<ul>\n",
    "<li>Red Cluster:</li>\n",
    "</ul>\n"
   ]
  },
  {
   "cell_type": "code",
   "execution_count": null,
   "metadata": {},
   "outputs": [],
   "source": [
    "\n",
    "york_merged.loc[york_merged['Cluster Labels'] == 0, york_merged.columns[[1] + list(range(5, york_merged.shape[1]))]]\n",
    "\n"
   ]
  },
  {
   "cell_type": "markdown",
   "metadata": {},
   "source": [
    "\n",
    "<ul>\n",
    "<li>Blue Cluster:</li>\n",
    "</ul>\n"
   ]
  },
  {
   "cell_type": "markdown",
   "metadata": {},
   "source": [
    "\n",
    "<h4 id=\"The-neigbourhood-Westson-standsout-from-the-four-others-in-the-York-borough-of--Toronto,-with-an-important-Park-and-as-can-be-seen-on-the-map-is-close-to-the-highway,-its-other-imporant-venues-are-women's-stores-and-hockey-areana.\">The neigbourhood Westson standsout from the four others in the York borough of  Toronto, with an important Park and as can be seen on the map is close to the highway, its other imporant venues are women's stores and hockey areana.<a class=\"anchor-link\" href=\"https://eu-gb.dataplatform.cloud.ibm.com/data/notebooks/converter/assets/8313cc9b-a363-4980-afca-f0c4f43bbc7c?access_token=acfddd202ebf78e84ebbdf02cb21f341bace09392e6c82f3f43c638e1752b564&amp;project=4457a2e1-3686-4058-bec5-8b309caa746d#The-neigbourhood-Westson-standsout-from-the-four-others-in-the-York-borough-of--Toronto,-with-an-important-Park-and-as-can-be-seen-on-the-map-is-close-to-the-highway,-its-other-imporant-venues-are-women's-stores-and-hockey-areana.\">В¶</a></h4>\n"
   ]
  },
  {
   "cell_type": "code",
   "execution_count": null,
   "metadata": {},
   "outputs": [],
   "source": [
    "\n",
    "york_merged.loc[york_merged['Cluster Labels'] == 1, york_merged.columns[[1] + list(range(5, york_merged.shape[1]))]]\n",
    "\n"
   ]
  },
  {
   "cell_type": "markdown",
   "metadata": {},
   "source": [
    "\n",
    "<h4 id=\"The-other-neigbourhoods,-also-have-parks-but-are-are-futher-away-from-the-highway,-as-can-be-seen-on-the-map,-their-most-common-venues-are-check-cashing-services,-tennis-courts-and-a-bus-line-etc.-As-this-cluster-is-in-a-greener-area,-I'd-prefer-to-live-there!\">The other neigbourhoods, also have parks but are are futher away from the highway, as can be seen on the map, their most common venues are check cashing services, tennis courts and a bus line etc. As this cluster is in a greener area, I'd prefer to live there!<a class=\"anchor-link\" href=\"https://eu-gb.dataplatform.cloud.ibm.com/data/notebooks/converter/assets/8313cc9b-a363-4980-afca-f0c4f43bbc7c?access_token=acfddd202ebf78e84ebbdf02cb21f341bace09392e6c82f3f43c638e1752b564&amp;project=4457a2e1-3686-4058-bec5-8b309caa746d#The-other-neigbourhoods,-also-have-parks-but-are-are-futher-away-from-the-highway,-as-can-be-seen-on-the-map,-their-most-common-venues-are-check-cashing-services,-tennis-courts-and-a-bus-line-etc.-As-this-cluster-is-in-a-greener-area,-I'd-prefer-to-live-there!\">В¶</a></h4>\n"
   ]
  },
  {
   "cell_type": "markdown",
   "metadata": {},
   "source": [
    "\n",
    "<h2 id=\"3.5.-Q3_-notebook-on-Github-repository.-(3-marks)\">3.5. Q3_ notebook on Github repository. (3 marks)<a class=\"anchor-link\" href=\"https://eu-gb.dataplatform.cloud.ibm.com/data/notebooks/converter/assets/8313cc9b-a363-4980-afca-f0c4f43bbc7c?access_token=acfddd202ebf78e84ebbdf02cb21f341bace09392e6c82f3f43c638e1752b564&amp;project=4457a2e1-3686-4058-bec5-8b309caa746d#3.5.-Q3_-notebook-on-Github-repository.-(3-marks)\">В¶</a></h2>\n"
   ]
  },
  {
   "cell_type": "markdown",
   "metadata": {},
   "source": [
    "\n",
    "<p>This notebook is an assignment for a course on <strong>Coursera</strong> called <em>Applied Data Science Capstone</em>, you can take this course online by clicking <a href=\"http://cocl.us/DP0701EN_Coursera_Week3_LAB2\">here</a>.</p>\n"
   ]
  },
  {
   "cell_type": "code",
   "execution_count": null,
   "metadata": {},
   "outputs": [],
   "source": []
  },
  {
   "cell_type": "code",
   "execution_count": null,
   "metadata": {},
   "outputs": [],
   "source": []
  }
 ],
 "metadata": {
  "kernelspec": {
   "display_name": "Python 3",
   "language": "python",
   "name": "python3"
  },
  "language_info": {
   "codemirror_mode": {
    "name": "ipython",
    "version": 3
   },
   "file_extension": ".py",
   "mimetype": "text/x-python",
   "name": "python",
   "nbconvert_exporter": "python",
   "pygments_lexer": "ipython3",
   "version": "3.7.7"
  }
 },
 "nbformat": 4,
 "nbformat_minor": 1
}
